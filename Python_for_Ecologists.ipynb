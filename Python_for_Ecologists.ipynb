{
  "nbformat": 4,
  "nbformat_minor": 0,
  "metadata": {
    "colab": {
      "provenance": [],
      "mount_file_id": "1BS9K6HMis8o0SUGwoT2MwC9aPvw1DE1O",
      "authorship_tag": "ABX9TyMt+sISSMHOgOzHSO5c8ERH",
      "include_colab_link": true
    },
    "kernelspec": {
      "name": "python3",
      "display_name": "Python 3"
    },
    "language_info": {
      "name": "python"
    },
    "widgets": {
      "application/vnd.jupyter.widget-state+json": {
        "9ba94d3b05f04c2f86b9c31c9e7c091d": {
          "model_module": "arcgis-map-ipywidget",
          "model_name": "ArcGISMapIPyWidgetModel",
          "model_module_version": "2.2.0.1",
          "state": {
            "_add_this_graphic": {},
            "_add_this_notype_layer": {},
            "_auth_mode": "anonymous",
            "_basemap": "default",
            "_cell_output_screenshot_callback_resp": "",
            "_center": {},
            "_center_long_lat": [],
            "_custom_msg": "",
            "_dom_classes": [],
            "_draw_these_graphics_on_widget_load": [],
            "_draw_these_notype_layers_on_widget_load": [],
            "_extent": {
              "xmin": 2.278657337,
              "ymin": 48.780697576,
              "xmax": 2.444657337,
              "ymax": 48.946697576
            },
            "_file_output_screenshot_callback_resp": "",
            "_gallery_basemaps": {
              "default": {
                "baseMapLayers": [
                  {
                    "url": "https://services.arcgisonline.com/ArcGIS/rest/services/World_Topo_Map/MapServer",
                    "layerType": "ArcGISTiledMapServiceLayer",
                    "resourceInfo": {
                      "currentVersion": 10.3,
                      "mapName": "Layers",
                      "supportsDynamicLayers": false,
                      "layers": [
                        {
                          "id": 0,
                          "name": "Citations",
                          "parentLayerId": -1,
                          "defaultVisibility": false,
                          "subLayerIds": null,
                          "minScale": 0,
                          "maxScale": 0
                        }
                      ],
                      "tables": [],
                      "spatialReference": {
                        "wkid": 102100,
                        "latestWkid": 3857
                      },
                      "singleFusedMapCache": true,
                      "tileInfo": {
                        "rows": 256,
                        "cols": 256,
                        "dpi": 96,
                        "format": "JPEG",
                        "compressionQuality": 90,
                        "origin": {
                          "x": -20037508.342787,
                          "y": 20037508.342787
                        },
                        "spatialReference": {
                          "wkid": 102100,
                          "latestWkid": 3857
                        },
                        "lods": [
                          {
                            "level": 0,
                            "resolution": 156543.03392800014,
                            "scale": 591657527.591555
                          },
                          {
                            "level": 1,
                            "resolution": 78271.51696399994,
                            "scale": 295828763.795777
                          },
                          {
                            "level": 2,
                            "resolution": 39135.75848200009,
                            "scale": 147914381.897889
                          },
                          {
                            "level": 3,
                            "resolution": 19567.87924099992,
                            "scale": 73957190.948944
                          },
                          {
                            "level": 4,
                            "resolution": 9783.93962049996,
                            "scale": 36978595.474472
                          },
                          {
                            "level": 5,
                            "resolution": 4891.96981024998,
                            "scale": 18489297.737236
                          },
                          {
                            "level": 6,
                            "resolution": 2445.98490512499,
                            "scale": 9244648.868618
                          },
                          {
                            "level": 7,
                            "resolution": 1222.992452562495,
                            "scale": 4622324.434309
                          },
                          {
                            "level": 8,
                            "resolution": 611.4962262813797,
                            "scale": 2311162.217155
                          },
                          {
                            "level": 9,
                            "resolution": 305.74811314055756,
                            "scale": 1155581.108577
                          },
                          {
                            "level": 10,
                            "resolution": 152.87405657041106,
                            "scale": 577790.554289
                          },
                          {
                            "level": 11,
                            "resolution": 76.43702828507324,
                            "scale": 288895.277144
                          },
                          {
                            "level": 12,
                            "resolution": 38.21851414253662,
                            "scale": 144447.638572
                          },
                          {
                            "level": 13,
                            "resolution": 19.10925707126831,
                            "scale": 72223.819286
                          },
                          {
                            "level": 14,
                            "resolution": 9.554628535634155,
                            "scale": 36111.909643
                          },
                          {
                            "level": 15,
                            "resolution": 4.77731426794937,
                            "scale": 18055.954822
                          },
                          {
                            "level": 16,
                            "resolution": 2.388657133974685,
                            "scale": 9027.977411
                          },
                          {
                            "level": 17,
                            "resolution": 1.1943285668550503,
                            "scale": 4513.988705
                          },
                          {
                            "level": 18,
                            "resolution": 0.5971642835598172,
                            "scale": 2256.994353
                          },
                          {
                            "level": 19,
                            "resolution": 0.29858214164761665,
                            "scale": 1128.497176
                          },
                          {
                            "level": 20,
                            "resolution": 0.14929107082380833,
                            "scale": 564.248588
                          },
                          {
                            "level": 21,
                            "resolution": 0.07464553541190416,
                            "scale": 282.124294
                          },
                          {
                            "level": 22,
                            "resolution": 0.03732276770595208,
                            "scale": 141.062147
                          },
                          {
                            "level": 23,
                            "resolution": 0.01866138385297604,
                            "scale": 70.5310735
                          }
                        ]
                      },
                      "initialExtent": {
                        "xmin": -28848255.049479112,
                        "ymin": -2077452.082122866,
                        "xmax": 28848255.049479112,
                        "ymax": 16430757.376790084,
                        "spatialReference": {
                          "wkid": 102100,
                          "latestWkid": 3857
                        }
                      },
                      "fullExtent": {
                        "xmin": -20037507.067161843,
                        "ymin": -19971868.880408604,
                        "xmax": 20037507.067161843,
                        "ymax": 19971868.88040863,
                        "spatialReference": {
                          "wkid": 102100,
                          "latestWkid": 3857
                        }
                      },
                      "minScale": 591657527.591555,
                      "maxScale": 70.5310735,
                      "units": "esriMeters",
                      "supportedImageFormatTypes": "PNG32,PNG24,PNG,JPG,DIB,TIFF,EMF,PS,PDF,GIF,SVG,SVGZ,BMP",
                      "capabilities": "Map,Tilemap,Query,Data",
                      "supportedQueryFormats": "JSON, AMF",
                      "exportTilesAllowed": false,
                      "maxRecordCount": 100,
                      "maxImageHeight": 4096,
                      "maxImageWidth": 4096,
                      "supportedExtensions": "KmlServer"
                    }
                  }
                ],
                "title": "Topographic"
              }
            },
            "_heading": 0,
            "_image_overlays_to_remove": [],
            "_js_cdn_override": "",
            "_layers_to_remove": [],
            "_link_writeonly_extent": {},
            "_link_writeonly_heading": 0,
            "_link_writeonly_rotation": 0,
            "_link_writeonly_tilt": 0,
            "_model_module": "arcgis-map-ipywidget",
            "_model_module_version": "2.2.0.1",
            "_model_name": "ArcGISMapIPyWidgetModel",
            "_overlay_these_images_on_widget_load": [],
            "_overlay_this_image": {},
            "_portal_sharing_rest_url": "https://www.arcgis.com/sharing/rest/",
            "_portal_token": "",
            "_portal_url": "https://www.arcgis.com",
            "_preview_screenshot_callback_resp": "",
            "_readonly_center": {},
            "_readonly_end_time": "",
            "_readonly_extent": {},
            "_readonly_heading": 0,
            "_readonly_rotation": 0,
            "_readonly_scale": -1,
            "_readonly_start_time": "",
            "_readonly_tilt": 0,
            "_readonly_webmap_from_js": {},
            "_readonly_zoom": -1,
            "_rotation": 0,
            "_scale": -1,
            "_snap_to_zoom": true,
            "_tilt": 0,
            "_time_info": {},
            "_trigger_interactive_draw_mode_for": {},
            "_trigger_new_jlab_window_with_args": {},
            "_trigger_print_js_debug_info": "",
            "_trigger_screenshot_with_args": {},
            "_trigger_webscene_save_to_this_portal_id": "",
            "_username": "None",
            "_uuid": "4e43a7aa-f491-48de-8017-f21a691ee20c",
            "_view_count": null,
            "_view_module": "arcgis-map-ipywidget",
            "_view_module_version": "2.2.0.1",
            "_view_name": "ArcGISMapIPyWidgetView",
            "_webmap": {},
            "_webscene": {},
            "_writeonly_end_time": "1970-01-02T00:00:00.000000",
            "_writeonly_start_time": "1970-01-02T00:00:00.000000",
            "_zoom": -1,
            "hide_mode_switch": false,
            "jupyter_target": "",
            "layout": "IPY_MODEL_0f08a744fd2941bf99d0eebfac8df582",
            "legend": false,
            "mode": "2D",
            "print_service_url": "",
            "ready": false,
            "tab_mode": "auto",
            "time_mode": "time-window",
            "time_slider": false
          }
        },
        "58d7c08e1f3d45c1a3c40de51171e867": {
          "model_module": "arcgis-map-ipywidget",
          "model_name": "ArcGISMapIPyWidgetModel",
          "model_module_version": "2.2.0.1",
          "state": {
            "_add_this_graphic": {},
            "_add_this_notype_layer": {},
            "_auth_mode": "anonymous",
            "_basemap": "default",
            "_cell_output_screenshot_callback_resp": "",
            "_center": {},
            "_center_long_lat": [],
            "_custom_msg": "",
            "_dom_classes": [],
            "_draw_these_graphics_on_widget_load": [],
            "_draw_these_notype_layers_on_widget_load": [],
            "_extent": {
              "xmin": -15000000,
              "ymin": 2700000,
              "xmax": -6200000,
              "ymax": 6500000,
              "spatialReference": {
                "wkid": 102100
              }
            },
            "_file_output_screenshot_callback_resp": "",
            "_gallery_basemaps": {
              "default": {
                "baseMapLayers": [
                  {
                    "url": "https://services.arcgisonline.com/ArcGIS/rest/services/World_Topo_Map/MapServer",
                    "layerType": "ArcGISTiledMapServiceLayer",
                    "resourceInfo": {
                      "currentVersion": 10.3,
                      "mapName": "Layers",
                      "supportsDynamicLayers": false,
                      "layers": [
                        {
                          "id": 0,
                          "name": "Citations",
                          "parentLayerId": -1,
                          "defaultVisibility": false,
                          "subLayerIds": null,
                          "minScale": 0,
                          "maxScale": 0
                        }
                      ],
                      "tables": [],
                      "spatialReference": {
                        "wkid": 102100,
                        "latestWkid": 3857
                      },
                      "singleFusedMapCache": true,
                      "tileInfo": {
                        "rows": 256,
                        "cols": 256,
                        "dpi": 96,
                        "format": "JPEG",
                        "compressionQuality": 90,
                        "origin": {
                          "x": -20037508.342787,
                          "y": 20037508.342787
                        },
                        "spatialReference": {
                          "wkid": 102100,
                          "latestWkid": 3857
                        },
                        "lods": [
                          {
                            "level": 0,
                            "resolution": 156543.03392800014,
                            "scale": 591657527.591555
                          },
                          {
                            "level": 1,
                            "resolution": 78271.51696399994,
                            "scale": 295828763.795777
                          },
                          {
                            "level": 2,
                            "resolution": 39135.75848200009,
                            "scale": 147914381.897889
                          },
                          {
                            "level": 3,
                            "resolution": 19567.87924099992,
                            "scale": 73957190.948944
                          },
                          {
                            "level": 4,
                            "resolution": 9783.93962049996,
                            "scale": 36978595.474472
                          },
                          {
                            "level": 5,
                            "resolution": 4891.96981024998,
                            "scale": 18489297.737236
                          },
                          {
                            "level": 6,
                            "resolution": 2445.98490512499,
                            "scale": 9244648.868618
                          },
                          {
                            "level": 7,
                            "resolution": 1222.992452562495,
                            "scale": 4622324.434309
                          },
                          {
                            "level": 8,
                            "resolution": 611.4962262813797,
                            "scale": 2311162.217155
                          },
                          {
                            "level": 9,
                            "resolution": 305.74811314055756,
                            "scale": 1155581.108577
                          },
                          {
                            "level": 10,
                            "resolution": 152.87405657041106,
                            "scale": 577790.554289
                          },
                          {
                            "level": 11,
                            "resolution": 76.43702828507324,
                            "scale": 288895.277144
                          },
                          {
                            "level": 12,
                            "resolution": 38.21851414253662,
                            "scale": 144447.638572
                          },
                          {
                            "level": 13,
                            "resolution": 19.10925707126831,
                            "scale": 72223.819286
                          },
                          {
                            "level": 14,
                            "resolution": 9.554628535634155,
                            "scale": 36111.909643
                          },
                          {
                            "level": 15,
                            "resolution": 4.77731426794937,
                            "scale": 18055.954822
                          },
                          {
                            "level": 16,
                            "resolution": 2.388657133974685,
                            "scale": 9027.977411
                          },
                          {
                            "level": 17,
                            "resolution": 1.1943285668550503,
                            "scale": 4513.988705
                          },
                          {
                            "level": 18,
                            "resolution": 0.5971642835598172,
                            "scale": 2256.994353
                          },
                          {
                            "level": 19,
                            "resolution": 0.29858214164761665,
                            "scale": 1128.497176
                          },
                          {
                            "level": 20,
                            "resolution": 0.14929107082380833,
                            "scale": 564.248588
                          },
                          {
                            "level": 21,
                            "resolution": 0.07464553541190416,
                            "scale": 282.124294
                          },
                          {
                            "level": 22,
                            "resolution": 0.03732276770595208,
                            "scale": 141.062147
                          },
                          {
                            "level": 23,
                            "resolution": 0.01866138385297604,
                            "scale": 70.5310735
                          }
                        ]
                      },
                      "initialExtent": {
                        "xmin": -28848255.049479112,
                        "ymin": -2077452.082122866,
                        "xmax": 28848255.049479112,
                        "ymax": 16430757.376790084,
                        "spatialReference": {
                          "wkid": 102100,
                          "latestWkid": 3857
                        }
                      },
                      "fullExtent": {
                        "xmin": -20037507.067161843,
                        "ymin": -19971868.880408604,
                        "xmax": 20037507.067161843,
                        "ymax": 19971868.88040863,
                        "spatialReference": {
                          "wkid": 102100,
                          "latestWkid": 3857
                        }
                      },
                      "minScale": 591657527.591555,
                      "maxScale": 70.5310735,
                      "units": "esriMeters",
                      "supportedImageFormatTypes": "PNG32,PNG24,PNG,JPG,DIB,TIFF,EMF,PS,PDF,GIF,SVG,SVGZ,BMP",
                      "capabilities": "Map,Tilemap,Query,Data",
                      "supportedQueryFormats": "JSON, AMF",
                      "exportTilesAllowed": false,
                      "maxRecordCount": 100,
                      "maxImageHeight": 4096,
                      "maxImageWidth": 4096,
                      "supportedExtensions": "KmlServer"
                    }
                  }
                ],
                "title": "Topographic"
              }
            },
            "_heading": 0,
            "_image_overlays_to_remove": [],
            "_js_cdn_override": "",
            "_layers_to_remove": [],
            "_link_writeonly_extent": {},
            "_link_writeonly_heading": 0,
            "_link_writeonly_rotation": 0,
            "_link_writeonly_tilt": 0,
            "_model_module": "arcgis-map-ipywidget",
            "_model_module_version": "2.2.0.1",
            "_model_name": "ArcGISMapIPyWidgetModel",
            "_overlay_these_images_on_widget_load": [],
            "_overlay_this_image": {},
            "_portal_sharing_rest_url": "https://www.arcgis.com/sharing/rest/",
            "_portal_token": "",
            "_portal_url": "https://www.arcgis.com",
            "_preview_screenshot_callback_resp": "",
            "_readonly_center": {},
            "_readonly_end_time": "",
            "_readonly_extent": {},
            "_readonly_heading": 0,
            "_readonly_rotation": 0,
            "_readonly_scale": -1,
            "_readonly_start_time": "",
            "_readonly_tilt": 0,
            "_readonly_webmap_from_js": {},
            "_readonly_zoom": -1,
            "_rotation": 0,
            "_scale": -1,
            "_snap_to_zoom": true,
            "_tilt": 0,
            "_time_info": {},
            "_trigger_interactive_draw_mode_for": {},
            "_trigger_new_jlab_window_with_args": {},
            "_trigger_print_js_debug_info": "",
            "_trigger_screenshot_with_args": {},
            "_trigger_webscene_save_to_this_portal_id": "",
            "_username": "None",
            "_uuid": "1677b87c-8581-4919-8312-17fe5e7e823e",
            "_view_count": null,
            "_view_module": "arcgis-map-ipywidget",
            "_view_module_version": "2.2.0.1",
            "_view_name": "ArcGISMapIPyWidgetView",
            "_webmap": {},
            "_webscene": {},
            "_writeonly_end_time": "1970-01-02T00:00:00.000000",
            "_writeonly_start_time": "1970-01-02T00:00:00.000000",
            "_zoom": -1,
            "hide_mode_switch": false,
            "jupyter_target": "",
            "layout": "IPY_MODEL_54873f9a2bf64e178896bd90ad78e01e",
            "legend": false,
            "mode": "2D",
            "print_service_url": "",
            "ready": false,
            "tab_mode": "auto",
            "time_mode": "time-window",
            "time_slider": false
          }
        }
      }
    }
  },
  "cells": [
    {
      "cell_type": "markdown",
      "metadata": {
        "id": "view-in-github",
        "colab_type": "text"
      },
      "source": [
        "<a href=\"https://colab.research.google.com/github/IsabelleLebTay/Python-for-Ecologists/blob/main/Python_for_Ecologists.ipynb\" target=\"_parent\"><img src=\"https://colab.research.google.com/assets/colab-badge.svg\" alt=\"Open In Colab\"/></a>"
      ]
    },
    {
      "cell_type": "markdown",
      "source": [
        "This is a course designed to give a high-level overview of that ecologists can do in Python. it is not intended to teach how to program in Python -- for in-depth learning, see this recommendations.\n",
        "\n",
        "Participants who are comfortable in any programming language will get the most out of this workshop. Most ecologists work in R, so there will be an emphasis on comparing actions in R to Python.\n",
        "\n",
        "This runs on Python 3."
      ],
      "metadata": {
        "id": "uf2VuJbdxdCt"
      }
    },
    {
      "cell_type": "markdown",
      "source": [
        "This is a tentative program:\n",
        "\n",
        "1. Design differences between the two languages, strengths of both, similarities\n",
        "- where to find install and packages info, IDE\n",
        "- running scripts in terminal as an option\n",
        "- Everything Is An Object\n",
        "- Troubleshooting\n",
        "\n",
        "2. Syntax and basics\n",
        "- syntax and naming conventions\n",
        "- basic data types in python: string, int, float, list, dict, set\n",
        "- basic operations like indexing, math\n",
        "- include a cheat sheet from R to python (for loop, calling/defining a function, etc)\n",
        "\n",
        "3. Data manipulation and filtering\n",
        "- pandas: the one and only dataframe package\n",
        "- lots of exercises in pandas\n",
        "-  introduce a few very useful basic packages, like numpy, os, datetime, rpy2\n",
        "\n",
        "4. Data visualisation\n",
        "- seaborn, matplotlib (and how they compare with ggplot)\n",
        "\n",
        "5. Stats\n",
        "- statsmodel for fitting models, and showcase a few homebrew packages that are built off of statsmodel\n",
        "- sklearn for predicting, regression trees, etc\n",
        "- tensor flow for machine learning?\n",
        "- cmdstanpy? :)\n",
        "\n",
        "5.5 Machine Learning?\n",
        "\n",
        "6. GIS\n",
        "- how to read in and use GIS data, manipulation\n",
        "- focus on geopandas and fiona to get the basics of the data types\n",
        "- briefly introduce gee (Google Earth Engine integration) and ArcPy for more complex GIS exercises\n",
        "\n",
        "7. API integrations\n",
        "- requests package: how to send HTTPS requests, and using the json method\n",
        "\n"
      ],
      "metadata": {
        "id": "bZQAof_LyE1n"
      }
    },
    {
      "cell_type": "markdown",
      "source": [
        "# Welcome to Python for Ecologists!\n",
        "\n",
        "\n",
        "## Intent\n",
        "⚛ *ChatGPT can write you the code* ⚛ <br><br>\n",
        "The goal of this workshop is to help you develop a structural understanding of the language, so you can <br>\n",
        "\n",
        "*   ask the best prompts\n",
        "*   understand errors\n",
        "*   troubleshoot\n",
        "*   learn what tools are available\n",
        "\n",
        "\n",
        "\n",
        "\n",
        "## Useful resources\n",
        "Python for Data Analysis: https://wesmckinney.com/book/"
      ],
      "metadata": {
        "id": "JWDAJLdyb1oE"
      }
    },
    {
      "cell_type": "markdown",
      "source": [
        "# Language Design"
      ],
      "metadata": {
        "id": "c1CaQsTJyScD"
      }
    },
    {
      "cell_type": "markdown",
      "source": [
        "**Overview**\n",
        "\n",
        "\n",
        "*   **R:**\n",
        "  - Satistical language\n",
        "  - Strengths: data analysis, stats modelling, plotting\n",
        "  - Package ecosystem: CRAN\n",
        "\n",
        "* **Python:**\n",
        "  - General purpose language\n",
        "  - Web dev, scripting, stats, data science, machine learning\n",
        "  - Package ecosystem: Pip or Conda\n",
        "\n",
        "\n",
        "\n"
      ],
      "metadata": {
        "id": "bTQGss-yRdIM"
      }
    },
    {
      "cell_type": "markdown",
      "source": [
        "### *Interpreted and sequential*\n",
        "\n",
        "Python is an interpreted language. Like R, errors come up **after** running a line of code.\n",
        "\n",
        "It is also sequential: the order in which lines are written matters."
      ],
      "metadata": {
        "id": "1-lpqQQsxfLq"
      }
    },
    {
      "cell_type": "code",
      "source": [
        "# let's get some packages\n",
        "import rpy2"
      ],
      "metadata": {
        "id": "EAiVQvqSycF6"
      },
      "execution_count": 8,
      "outputs": []
    },
    {
      "cell_type": "code",
      "source": [
        "%load_ext rpy2.ipython"
      ],
      "metadata": {
        "id": "ZGW7gatLylbi"
      },
      "execution_count": 9,
      "outputs": []
    },
    {
      "cell_type": "code",
      "source": [
        "# each line is executed fully before the next\n",
        "my_list =\n",
        "for i in range(6):\n",
        "  print(i)"
      ],
      "metadata": {
        "colab": {
          "base_uri": "https://localhost:8080/"
        },
        "id": "8ZLRcJO1xgDq",
        "outputId": "5db0e454-115d-487e-9bc0-3c02f62c3aef"
      },
      "execution_count": 6,
      "outputs": [
        {
          "output_type": "stream",
          "name": "stdout",
          "text": [
            "0\n",
            "1\n",
            "2\n",
            "3\n",
            "4\n",
            "5\n"
          ]
        }
      ]
    },
    {
      "cell_type": "code",
      "source": [
        "%%R\n",
        "# same as R\n",
        "for (i in 1:6) {\n",
        "  print(i)\n",
        "}\n"
      ],
      "metadata": {
        "colab": {
          "base_uri": "https://localhost:8080/"
        },
        "id": "XlXR3KznyPsf",
        "outputId": "010dd126-6d47-41b1-b3b4-13db9311aad3"
      },
      "execution_count": 10,
      "outputs": [
        {
          "output_type": "stream",
          "name": "stdout",
          "text": [
            "[1] 1\n",
            "[1] 2\n",
            "[1] 3\n",
            "[1] 4\n",
            "[1] 5\n",
            "[1] 6\n"
          ]
        }
      ]
    },
    {
      "cell_type": "markdown",
      "source": [
        "## *Object-oriented*\n",
        "\n",
        "The number on rule in Python: Everything Is An Object.\n",
        "\n",
        "Some popular IDEs for Python are JupyterLab, Visual Studio Code. You can also run R in all of these IDEs. However, VS Code has a R extension that is made to ressemble the RStudio layout and functionalities. It supports all you love about R: the pane layouts, documentation search, linting, Rmarkdown, Quarto, etc.\n",
        "\n",
        "Unlike RStudio, the install and management of you python packages are more hands on. The key to understanding how your IDE finds your program installs. This is the Python Environment.\n",
        "\n",
        "**Python Environment**\n",
        "\n",
        "A Python environment is a self-contained directory that contains a Python installation and various additional packages. It allows you to manage project-specific dependencies and versions, separate from other Python projects or the system-wide Python installation.\n",
        "\n",
        "Virtual Environment: A virtual environment is a tool that helps to keep dependencies required by different projects in separate places. They are created by using a module, such as venv (which is part of the standard library in Python 3.3 and later) or virtualenv (a third-party tool). By using a virtual environment, you can avoid installing Python packages globally which could break system tools or other projects.\n",
        "\n",
        "Usually, your virtual environment is created in the terminal. This will come up in a practical tip in the GIS section again. I *highly* recommend creating new Virtual Environments when you are using a large package that dominates your work for the given task. For example, I have a virtual env for GIS tasks, and another one for the Bayesian tasks, and yet another for internet API SSL tasks.\n",
        "\n",
        "Dependencies: These are external libraries that your Python project needs to function properly. Each dependency may, in turn, have its own dependencies. Managing dependencies is one of the main reasons to use isolated Python virtual environments. For example, your GIS workflow includes geopandas, which is compatible with pandas v =< 4.1. Your base environment is always updated with the latest pandas (because as an ecologist, you are using pandas all day, every day), which is at a version geopandas cannot support.\n",
        "\n",
        "Requirements File: Often called requirements.txt, this file lists all of the packages that a project depends on. This file can be used with pip to install all of the necessary packages at once with the command pip install -r requirements.txt.\n",
        "\n"
      ],
      "metadata": {
        "id": "MwbYWz8LQPub"
      }
    },
    {
      "cell_type": "markdown",
      "source": [
        "## Functions, methods, property\n",
        "Functions are called, and can take arguments.\n",
        "Methods"
      ],
      "metadata": {
        "id": "Ve29zXFgqKNo"
      }
    },
    {
      "cell_type": "markdown",
      "source": [
        "# Syntax & Operations\n",
        "\n",
        "**Assignment**\n",
        "  - **R**: <-\n",
        "```\n",
        ">>> this_vector <- c(1, 2, 3)\n",
        "```\n",
        "\n",
        "\n",
        "  - **Python**: =\n",
        "```\n",
        ">>> this_list = [1, 2, 3]\n",
        ">>> print(this_list, type(this_list))\n",
        "[1, 2, 3] <class 'list'>\n",
        "```\n",
        "\n",
        "<br>\n",
        "\n",
        "**Vectoring**\n",
        "Single-dimensional array of values\n",
        "  - **R**: natural (built-in)\n",
        "```\n",
        ">>> cat(this_vector, class(this_vector))\n",
        "1 2 3 \"numeric\"\n",
        "```\n",
        "\n",
        "  - **Python**: not built-in. Use the NumPy library\n",
        "```\n",
        ">>> numpy_vector = np.array(this_list)\n",
        ">>> print(numpy_vector, type(numpy_vector))\n",
        "[1 2 3] <class 'numpy.ndarray'>\n",
        "```\n",
        "<br>\n",
        "\n",
        "**Data Structure**\n",
        "  - **R**: Rich structure, like built-in dataframes\n",
        "\n",
        "  - **Python**: Workhorses are lists, tuples & dictionaries. No built-in dataframe structure.\n",
        "\n",
        "<br>\n",
        "\n",
        "**Semantics**\n",
        "Python emphasises readability, clarity, and simplicity.\n",
        "  - **R**: Curly {} brackets for code blocks\n",
        "\n",
        "```{R}\n",
        "less <- c()                               # initialise empty vectors\n",
        "greater <- c()                            # initialise empty vectors\n",
        "\n",
        "for (x in array) {                        # for loop, {}\n",
        "    if (x < pivot) {\n",
        "        less <- c(less, x)\n",
        "    } else {\n",
        "        greater <- c(greater, x)\n",
        "    }\n",
        "}\n",
        "\n",
        "# if someone shared you this code, can you read & understand what happens, without having to run it?\n",
        "```\n",
        "\n",
        "  - **Python**: Indents, and semi-colons\n",
        "\n",
        "```{python}\n",
        "less = []                                 # initialise empty list\n",
        "greater = []                              # initialise empty list\n",
        "\n",
        "for x in array:                           # for loop, : and indents\n",
        "    if x < pivot:\n",
        "        less.append(x)\n",
        "    else:\n",
        "        greater.append(x)\n",
        "\n",
        "# How fast do you understand what is happening here?\n",
        "```\n",
        "\n",
        "\n",
        "<br>\n",
        "\n",
        "**Libraries**\n",
        "  - **R**\n",
        "    - Install from CRAN to your local machine, and load to the script\n",
        " ```   \n",
        "    install.packages(\"package.name\")\n",
        "    library(package.name)\n",
        "```\n",
        "  - **Python**\n",
        "    - Install either from Pip or Conda (depends on the package and your environment set-up). This is done outside the script, in terminal/shell, and is loaded into your environment of choice. For example, when you run a .py file in terminal, choose the environmental variable path that includes the loaded libraries.\n",
        "```\n",
        "# In terminal:\n",
        ">>> pip install pandas\n",
        "# In script:\n",
        ">>> import pandas as pd\n",
        "```\n",
        "\n",
        "<br>\n",
        "\n",
        "**Data Handling**\n",
        "  - **R**: native dataframe handling\n",
        "  ```\n",
        "df <- read.csv(\"path/file.csv\")\n",
        "  ```\n",
        "\n",
        "  - **Python**: only through advanced libraries\n",
        "  ```\n",
        ">>> df = pd.read_csv(\"path/file.csv\")\n",
        ">>> type(df)\n",
        "pandas.core.frame.DataFrame\n",
        "  ```\n",
        "\n",
        "<br>\n",
        "\n",
        "**Plotting and Viz**\n",
        "  - **R**: some built-in with plot(), plus libs like ggplot2\n",
        "  - **Python**: also has base plot(), plus libs like Matplotlib, Seaborn, etc"
      ],
      "metadata": {
        "id": "bzJWqd3Dy7V3"
      }
    },
    {
      "cell_type": "markdown",
      "source": [
        "## Object-Oriented Programming: OOP\n",
        "\n",
        "***Everything is an object***\n",
        "\n",
        "*From the McKinney book:*\n",
        "\n",
        "\"Every number, string, data structure, function, class, module, and so on exists in the Python interpreter in its own “box,” which is referred to as a Python object. Each object has an associated type (e.g., integer, string, or function) and internal data. In practice this makes the language very flexible, as even functions can be treated like any other object.\"\n",
        "\n",
        "<br>\n",
        "\n",
        "One of the main fundamental differences between the two languages is that OOP is central to Python. In R, there is some OOP support, so you should recognize some similarities.\n",
        "\n",
        "**What is Object-Oriented Programming?**\n",
        "\n",
        "\n",
        "The focus is to create objects which combine both data and the functions that operate on that data.\n",
        "\n",
        "> Tip! Did you notice we always checked the _type_ of the objects we created? This tells us two important things:\n",
        "> 1. How is the data stored\n",
        "> 2. What functions can we apply to the object\n",
        "\n",
        "In Python, everything is an object, from numbers, strings, functions, and user-defined classes. They each belong to a specific type (aka class) and have attributes and methods.\n",
        "\n",
        "**Attribute**\n",
        "* A property of an object. The information is stored along with the data.\n",
        "\n",
        "**Method**\n",
        "* A function that acts on the object\n",
        "\n",
        "Example: Every object in Python is an instance of a Class. Users can create custom objects, which have attributes and methods, and can interact with other objects and that object's methods.\n",
        "\n"
      ],
      "metadata": {
        "id": "wUXa__9peA2I"
      }
    },
    {
      "cell_type": "code",
      "source": [
        "class Animal:\n",
        "    def __init__(self, name, species, age):\n",
        "        self.name = name        # Name of the animal\n",
        "        self.species = species  # Species/type of the animal\n",
        "        self.age = age          # Age of the animal\n",
        "        self.is_awake = False   # By default, the animal is not awake\n",
        "\n",
        "    def speak(self):\n",
        "        \"\"\"\n",
        "        Simulate the animal speaking. This will be more generic\n",
        "        for the base Animal class and can be overridden in subclasses.\n",
        "        \"\"\"\n",
        "        return f\"I'm a {self.species}. My name is {self.name}.\"\n",
        "\n",
        "    def celebrate_birthday(self):\n",
        "        \"\"\"\n",
        "        Increase the age of the animal by 1 and return a birthday message.\n",
        "        \"\"\"\n",
        "        self.age += 1\n",
        "        return f\"Happy Birthday, {self.name}! You are now {self.age} years old.\"\n",
        "\n",
        "    def wake_up(self):\n",
        "        \"\"\"\n",
        "        Wake up the animal.\n",
        "        \"\"\"\n",
        "        self.is_awake = True\n",
        "        return f\"{self.name} is awake.\"\n",
        "\n",
        "    def sleep(self):\n",
        "        \"\"\"\n",
        "        Make the animal sleep.\n",
        "        \"\"\"\n",
        "        self.is_awake = False\n",
        "        return f\"{self.name} is asleep.\"\n"
      ],
      "metadata": {
        "id": "e_BnddPTvHlK"
      },
      "execution_count": null,
      "outputs": []
    },
    {
      "cell_type": "markdown",
      "source": [
        "We've create an Animal Class. Let's create an object from this class, and learn more about it."
      ],
      "metadata": {
        "id": "_lDn2Hj2wLXc"
      }
    },
    {
      "cell_type": "code",
      "source": [
        "# Create an animal object\n",
        "my_pet = Animal(name=\"Woolly\", species=\"caterpillar\", age=4)\n",
        "\n",
        "# Accessing attributes. Note there are no () when calling an attribute\n",
        "print(my_pet.name)\n",
        "print(my_pet.species)\n",
        "print(my_pet.age)\n",
        "print(\" \")\n",
        "# Using methods. Note the (). This means the function can take arguments, if that option exists.\n",
        "print(my_pet.speak())\n",
        "print(my_pet.celebrate_birthday())\n",
        "print(my_pet.wake_up())\n",
        "print(my_pet.sleep())\n",
        "print(my_pet.celebrate_birthday())\n",
        "print(f\"{my_pet.name}'s age: \", my_pet.age)"
      ],
      "metadata": {
        "colab": {
          "base_uri": "https://localhost:8080/"
        },
        "id": "YGfbRMZvwKK0",
        "outputId": "118ad925-6c8b-40b5-dc1f-0c865088dee3"
      },
      "execution_count": null,
      "outputs": [
        {
          "output_type": "stream",
          "name": "stdout",
          "text": [
            "Woolly\n",
            "caterpillar\n",
            "4\n",
            " \n",
            "I'm a caterpillar. My name is Woolly.\n",
            "Happy Birthday, Woolly! You are now 5 years old.\n",
            "Woolly is awake.\n",
            "Woolly is asleep.\n",
            "Happy Birthday, Woolly! You are now 6 years old.\n",
            "Woolly's age:  6\n"
          ]
        }
      ]
    },
    {
      "cell_type": "markdown",
      "source": [
        "We can interact with the object of this class.\n",
        "\n",
        "For example, let's write a class that monitors the time. If it is nighttime, the animal should be asleep."
      ],
      "metadata": {
        "id": "7oikAgxnx7tn"
      }
    },
    {
      "cell_type": "code",
      "source": [
        "class WhatTimeIsIt:\n",
        "    def __init__(self, hour=0):\n",
        "        self.hour = hour\n",
        "\n",
        "    def update_time(self, hour):\n",
        "        \"\"\"\n",
        "        Set the current time.\n",
        "        \"\"\"\n",
        "        self.hour = hour\n",
        "\n",
        "    def get_time(self):\n",
        "        \"\"\"\n",
        "        Return the current time.\n",
        "        \"\"\"\n",
        "        return self.hour\n",
        "\n",
        "    def notify_animal(self, animal):\n",
        "        \"\"\"\n",
        "        Notify the animal of the time change and have the animal act accordingly.\n",
        "        \"\"\"\n",
        "        if 6 <= self.hour < 20:  # If it's day (6am to 8pm)\n",
        "            return animal.wake_up()\n",
        "        else:  # If it's night\n",
        "            return animal.sleep()\n",
        "\n"
      ],
      "metadata": {
        "id": "upDTqBG0yKQJ"
      },
      "execution_count": null,
      "outputs": []
    },
    {
      "cell_type": "code",
      "source": [
        "# Creating a time object\n",
        "current_time = WhatTimeIsIt(hour=2)  # Set to 2am\n",
        "print(current_time.notify_animal(my_pet))\n"
      ],
      "metadata": {
        "colab": {
          "base_uri": "https://localhost:8080/"
        },
        "id": "4gv1pBX1zdNP",
        "outputId": "dff7792f-bb0d-4fe0-db1c-c03d7c0b41fc"
      },
      "execution_count": null,
      "outputs": [
        {
          "output_type": "stream",
          "name": "stdout",
          "text": [
            "Woolly is asleep.\n"
          ]
        }
      ]
    },
    {
      "cell_type": "code",
      "source": [
        "# Change the time to 7am. The obeject.update_time() method takes 1 argument\n",
        "current_time.update_time(17)\n",
        "print(current_time.notify_animal(my_pet))"
      ],
      "metadata": {
        "colab": {
          "base_uri": "https://localhost:8080/"
        },
        "id": "L6IA7Om1zn-Y",
        "outputId": "30862585-5ed7-466e-cbbf-5cbf6228c93a"
      },
      "execution_count": null,
      "outputs": [
        {
          "output_type": "stream",
          "name": "stdout",
          "text": [
            "Woolly is awake.\n"
          ]
        }
      ]
    },
    {
      "cell_type": "markdown",
      "source": [
        "**Why Object-Oriented?**\n",
        "We interacted with the Animal object to wake it up and put it to sleep. We could do that without having to change anything about the object _itself_!\n",
        "\n",
        "This refers to **modularity**: each class is encapsulated in a single theme. If you've written long scripts where multiple objects interact, like in spatial analysis, evolving SDMs, community dynamics, an OOP approach can make the code cleaner, compartmentalise the complexity, reproducible."
      ],
      "metadata": {
        "id": "CIHtzjSl0Z2G"
      }
    },
    {
      "cell_type": "markdown",
      "source": [
        "## Lists, Dictionaries, Tuples\n",
        "\n",
        "* List: single dimension, iterable\n",
        "* You can iterage through a list"
      ],
      "metadata": {
        "id": "CJ9eGEzM7Per"
      }
    },
    {
      "cell_type": "code",
      "source": [
        "%load_ext rpy2.ipython"
      ],
      "metadata": {
        "id": "bO0EJ5_AkOgV"
      },
      "execution_count": null,
      "outputs": []
    },
    {
      "cell_type": "code",
      "source": [
        "import random\n",
        "\n",
        "# init an empty list\n",
        "list_of_ints = []\n",
        "\n",
        "# populate the list\n",
        "for i in range(8):\n",
        "  int_to_add = random.randrange(start= 0, stop=15)\n",
        "  list_of_ints.append(i+int_to_add)\n",
        "list_of_ints"
      ],
      "metadata": {
        "colab": {
          "base_uri": "https://localhost:8080/"
        },
        "id": "IzQVnYOP7V1N",
        "outputId": "311a37df-2279-44db-e113-da70194ca227"
      },
      "execution_count": null,
      "outputs": [
        {
          "output_type": "execute_result",
          "data": {
            "text/plain": [
              "[11, 12, 3, 14, 12, 5, 6, 14]"
            ]
          },
          "metadata": {},
          "execution_count": 99
        }
      ]
    },
    {
      "cell_type": "markdown",
      "source": [
        "### Assigning and referencing variables\n",
        "\n",
        "In Python, when assigning a name, we create a *reference* to the object on the righthand side."
      ],
      "metadata": {
        "id": "6xIuxBORkekK"
      }
    },
    {
      "cell_type": "code",
      "source": [
        "site_a_count = [1, 2, 3]                                               # counting owls at site a\n",
        "site_b_count = site_a_count                                            # actually, this is site b\n",
        "site_b_count.append('maybe saw one more owl')                          # update owl spotting at site b\n",
        "\n",
        "print(f\"Conclusion for site a: {site_a_count}\")\n",
        "print(f\"Conclusion for site b: {site_b_count}\")"
      ],
      "metadata": {
        "colab": {
          "base_uri": "https://localhost:8080/"
        },
        "id": "ACr0w9jJjTnF",
        "outputId": "8da43e38-d7b2-40c6-ee79-fa571a16b4ee"
      },
      "execution_count": null,
      "outputs": [
        {
          "output_type": "stream",
          "name": "stdout",
          "text": [
            "Conclusion for site a: [1, 2, 3, 'maybe saw one more owl']\n",
            "Conclusion for site b: [1, 2, 3, 'maybe saw one more owl']\n"
          ]
        }
      ]
    },
    {
      "cell_type": "markdown",
      "source": [
        "What do you think is happening here? Why did the list stored in variable site_a_count change as well?\n",
        "\n",
        "*Tip: what is the object referenced by the variable name site_a_count?*"
      ],
      "metadata": {
        "id": "6QCJHf9WlR3E"
      }
    },
    {
      "cell_type": "markdown",
      "source": [
        "In R, assigning a variable to another will create a *copy*."
      ],
      "metadata": {
        "id": "wVVD50Z4mtI7"
      }
    },
    {
      "cell_type": "code",
      "source": [
        "%%R\n",
        "site_a_count <- list(1, 2, 3)                                                     # counting owls at site a\n",
        "site_b_count <- site_a_count                                                      # actually, this is site b\n",
        "site_b_count <- c(site_b_count, 'maybe saw one more owl')                         # update owl spotting at site b\n",
        "\n",
        "cat(\"Conclusion for site a:\", toString(site_a_count), \"\\n\")\n",
        "cat(\"Conclusion for site b:\", toString(site_b_count), \"\\n\")\n"
      ],
      "metadata": {
        "colab": {
          "base_uri": "https://localhost:8080/"
        },
        "id": "oLZToaoyj07U",
        "outputId": "77c47f85-9d85-44f8-ef4c-f773da114618"
      },
      "execution_count": null,
      "outputs": [
        {
          "output_type": "stream",
          "name": "stdout",
          "text": [
            "Conclusion for site a: 1, 2, 3 \n",
            "Conclusion for site b: 1, 2, 3, maybe saw one more owl \n"
          ]
        }
      ]
    },
    {
      "cell_type": "markdown",
      "source": [
        "We saw another owl at site b, but this update is not reflected in the vector assigned to site a.\n",
        "\n",
        "<br>\n",
        "\n",
        "*Note that in R, a vector generally holds a single data type.*"
      ],
      "metadata": {
        "id": "UnMp1G8anFhZ"
      }
    },
    {
      "cell_type": "markdown",
      "source": [
        "### List comprehension: single line coding for nerds\n",
        "You can write the above for loop in a single line:"
      ],
      "metadata": {
        "id": "rl54O6AL-Gtg"
      }
    },
    {
      "cell_type": "code",
      "source": [
        "list_of_ints = [i+random.randrange(start= 0, stop=15) for i in range(8)]\n",
        "list_of_ints"
      ],
      "metadata": {
        "colab": {
          "base_uri": "https://localhost:8080/"
        },
        "id": "wyk4dqtD9Qtx",
        "outputId": "d24c639d-ef70-474f-8ba3-d52256b14820"
      },
      "execution_count": null,
      "outputs": [
        {
          "output_type": "execute_result",
          "data": {
            "text/plain": [
              "[4, 4, 10, 8, 4, 10, 14, 11]"
            ]
          },
          "metadata": {},
          "execution_count": 100
        }
      ]
    },
    {
      "cell_type": "markdown",
      "source": [
        "You can have lists of lists:"
      ],
      "metadata": {
        "id": "Y6zXwAvURi0M"
      }
    },
    {
      "cell_type": "code",
      "source": [],
      "metadata": {
        "id": "k2Unu9imRk_E"
      },
      "execution_count": null,
      "outputs": []
    },
    {
      "cell_type": "markdown",
      "source": [
        "### Dictionaries\n",
        "Dictionaries are made of keys and values. Think of the keys as the way you lookup entires in the dictionary. The\n",
        "\n",
        "```\n",
        ">>> this_dict = {1: a, 2: b, 3: c}\n",
        ">>> print(this_dict(this_list))\n",
        "[1, 2, 3] <class 'list'>\n",
        "```"
      ],
      "metadata": {
        "id": "HsXISiWsRfzE"
      }
    },
    {
      "cell_type": "code",
      "source": [
        "this_dict = {1: 'a', 2: 'b', 3: 'c'}\n",
        "print(this_dict\n",
        "      )"
      ],
      "metadata": {
        "colab": {
          "base_uri": "https://localhost:8080/"
        },
        "id": "YBW4KecZ0UJH",
        "outputId": "3117d4ca-e614-4626-be64-f950767bd66d"
      },
      "execution_count": null,
      "outputs": [
        {
          "output_type": "stream",
          "name": "stdout",
          "text": [
            "{1: 'a', 2: 'b', 3: 'c'}\n"
          ]
        }
      ]
    },
    {
      "cell_type": "code",
      "source": [
        "this_dict?\n"
      ],
      "metadata": {
        "id": "lp4jb2ZKesi_"
      },
      "execution_count": null,
      "outputs": []
    },
    {
      "cell_type": "markdown",
      "source": [
        "### If else statement"
      ],
      "metadata": {
        "id": "xFLVPCnV87sm"
      }
    },
    {
      "cell_type": "code",
      "source": [
        "type(empty_list)\n",
        "isinstance(empty_list, list)"
      ],
      "metadata": {
        "colab": {
          "base_uri": "https://localhost:8080/"
        },
        "id": "hSYTtpx78FKy",
        "outputId": "e47ccd22-7bba-4c82-ff06-6cc6dc5da9dd"
      },
      "execution_count": null,
      "outputs": [
        {
          "output_type": "execute_result",
          "data": {
            "text/plain": [
              "True"
            ]
          },
          "metadata": {},
          "execution_count": 85
        }
      ]
    },
    {
      "cell_type": "markdown",
      "source": [
        "### Indexing\n",
        "Access a value by its position"
      ],
      "metadata": {
        "id": "jXQXy7-Z7y0J"
      }
    },
    {
      "cell_type": "code",
      "source": [
        "random_list"
      ],
      "metadata": {
        "id": "JiQgyNqk77o_"
      },
      "execution_count": null,
      "outputs": []
    },
    {
      "cell_type": "code",
      "source": [
        "# Define a list\n",
        "my_list = [1, 2, 3, 4, 5]\n",
        "print(type(my_list))\n",
        "\n",
        "# 1. Append an element to the list\n",
        "my_list.append(6)  # Now, my_list is [1, 2, 3, 4, 5, 6]\n",
        "\n",
        "# 2. Extend the list with another list\n",
        "my_list.extend([7, 8])  # Now, my_list is [1, 2, 3, 4, 5, 6, 7, 8]\n",
        "\n",
        "# 3. Insert an element at a specific position\n",
        "my_list.insert(2, 2.5)  # Now, my_list is [1, 2, 2.5, 3, 4, 5, 6, 7, 8]\n",
        "\n",
        "# 4. Remove a specific element (first occurrence)\n",
        "my_list.remove(2.5)  # Now, my_list is [1, 2, 3, 4, 5, 6, 7, 8]\n",
        "\n",
        "# 5. Pop an element from the list by index (default is the last element)\n",
        "popped_element = my_list.pop()  # popped_element is 8, and my_list is [1, 2, 3, 4, 5, 6, 7]\n",
        "\n",
        "# 6. Find the index of an element (first occurrence)\n",
        "index_of_4 = my_list.index(4)  # index_of_4 is 3\n",
        "\n",
        "# 7. Count occurrences of an element\n",
        "count_of_3 = my_list.count(3)  # count_of_3 is 1\n",
        "\n",
        "# 8. Sort the list in place\n",
        "my_list.sort(reverse=True)  # my_list is [7, 6, 5, 4, 3, 2, 1]\n",
        "\n",
        "# 9. Reverse the list\n",
        "my_list.reverse()  # my_list is [1, 2, 3, 4, 5, 6, 7]\n"
      ],
      "metadata": {
        "colab": {
          "base_uri": "https://localhost:8080/"
        },
        "id": "diBSAWsRuwXw",
        "outputId": "33733a76-2de6-4dec-b17f-767790aff9dc"
      },
      "execution_count": null,
      "outputs": [
        {
          "output_type": "stream",
          "name": "stdout",
          "text": [
            "<class 'list'>\n"
          ]
        }
      ]
    },
    {
      "cell_type": "code",
      "source": [
        "this_list = [1, 2, 3]\n",
        "import numpy as np\n",
        "this_array = np.array(this_list)\n",
        "print(this_list, type(this_list) )\n",
        "print(this_array, type(this_array))\n",
        "print(type(this_array))"
      ],
      "metadata": {
        "colab": {
          "base_uri": "https://localhost:8080/"
        },
        "id": "AnwT4H_NWQUc",
        "outputId": "0f192d16-40d3-411e-83be-b1199fe7435f"
      },
      "execution_count": null,
      "outputs": [
        {
          "output_type": "stream",
          "name": "stdout",
          "text": [
            "[1, 2, 3] <class 'list'>\n",
            "[1 2 3] <class 'numpy.ndarray'>\n",
            "<class 'numpy.ndarray'>\n"
          ]
        }
      ]
    },
    {
      "cell_type": "code",
      "source": [
        "%%R\n",
        "\n",
        "x <- c(1, 5, 4, 9, 0)\n",
        "print(x)\n",
        "print(typeof(x))\n",
        "\n",
        "cat(x, typeof(x))\n",
        "length(x)\n",
        "x <- c(1, 5.4, TRUE, \"hello\")\n",
        "x\n",
        "print(typeof(x))\n",
        "\n",
        "\n",
        "this_vector <- c(1, 2, 3)\n",
        "cat(this_vector, \"    \", class(this_vector))"
      ],
      "metadata": {
        "colab": {
          "base_uri": "https://localhost:8080/"
        },
        "id": "wbrkcw-3Uh-X",
        "outputId": "ef52d60b-ecf4-4b7a-d284-a2600331d1a2"
      },
      "execution_count": null,
      "outputs": [
        {
          "output_type": "stream",
          "name": "stdout",
          "text": [
            "[1] 1 5 4 9 0\n",
            "[1] \"double\"\n",
            "1 5 4 9 0 double[1] \"character\"\n",
            "1 2 3      numeric"
          ]
        }
      ]
    },
    {
      "cell_type": "markdown",
      "source": [
        "# Data manipulation"
      ],
      "metadata": {
        "id": "w66HdBoMyvHG"
      }
    },
    {
      "cell_type": "markdown",
      "source": [
        "First, connect your Colab work session to your google drive. You'll be able to load the csv's this way.\n",
        "\n",
        "*Alternative:* If you do not want to connect your drive, you can upload the data directly from your local machine using the upload button on the top left, under the folder section. The files will uncache when you close this Colab session."
      ],
      "metadata": {
        "id": "cyPtxyBInivh"
      }
    },
    {
      "cell_type": "code",
      "source": [
        "from google.colab import drive\n",
        "drive.mount('/content/drive')"
      ],
      "metadata": {
        "colab": {
          "base_uri": "https://localhost:8080/"
        },
        "id": "VNY2qI7nm0vl",
        "outputId": "489eb135-ee98-4e63-e721-f9aafa48bf63"
      },
      "execution_count": null,
      "outputs": [
        {
          "output_type": "stream",
          "name": "stdout",
          "text": [
            "Drive already mounted at /content/drive; to attempt to forcibly remount, call drive.mount(\"/content/drive\", force_remount=True).\n"
          ]
        }
      ]
    },
    {
      "cell_type": "markdown",
      "source": [
        "R users: should I use the base data.frame? Tidyverse? DataTables?\n",
        "\n",
        "Python users: PANDAS!\n",
        "\n"
      ],
      "metadata": {
        "id": "tMlQTKNDyzgW"
      }
    },
    {
      "cell_type": "markdown",
      "source": [
        "Load the package"
      ],
      "metadata": {
        "id": "jOQudjAJimFZ"
      }
    },
    {
      "cell_type": "code",
      "source": [
        "import pandas as pd"
      ],
      "metadata": {
        "id": "Cd1StXxWbEJ_"
      },
      "execution_count": null,
      "outputs": []
    },
    {
      "cell_type": "markdown",
      "source": [
        "Read in some data with pandas"
      ],
      "metadata": {
        "id": "W-Q8_RHoin2v"
      }
    },
    {
      "cell_type": "code",
      "source": [
        "penguins = pd.read_csv(\"drive/MyDrive/Python for Ecologists/penguins.csv\")"
      ],
      "metadata": {
        "id": "Nf1Qm3JiitNg"
      },
      "execution_count": null,
      "outputs": []
    },
    {
      "cell_type": "markdown",
      "source": [
        "## Explore the penguins dataframe\n"
      ],
      "metadata": {
        "id": "E10ijoB2pJcD"
      }
    },
    {
      "cell_type": "code",
      "source": [
        "type(penguins)"
      ],
      "metadata": {
        "colab": {
          "base_uri": "https://localhost:8080/"
        },
        "id": "9B7IawQFpHZd",
        "outputId": "9e840327-85e6-427e-ee3e-0e70b88794cb"
      },
      "execution_count": null,
      "outputs": [
        {
          "output_type": "execute_result",
          "data": {
            "text/plain": [
              "pandas.core.frame.DataFrame"
            ]
          },
          "metadata": {},
          "execution_count": 8
        }
      ]
    },
    {
      "cell_type": "markdown",
      "source": [
        "df.head() by default looks at the top 5 rows. You can put any integer as an argument. Test it out."
      ],
      "metadata": {
        "id": "iw4Uv0GrQJGq"
      }
    },
    {
      "cell_type": "code",
      "source": [
        "penguins.head()"
      ],
      "metadata": {
        "colab": {
          "base_uri": "https://localhost:8080/",
          "height": 206
        },
        "id": "IU_IWd84pBWR",
        "outputId": "5ce8471a-7b12-4090-9cd5-bc6b40ff9c46"
      },
      "execution_count": null,
      "outputs": [
        {
          "output_type": "execute_result",
          "data": {
            "text/plain": [
              "  species     island  bill_length_mm  bill_depth_mm  flipper_length_mm  \\\n",
              "0  Adelie  Torgersen            39.1           18.7              181.0   \n",
              "1  Adelie  Torgersen            39.5           17.4              186.0   \n",
              "2  Adelie  Torgersen            40.3           18.0              195.0   \n",
              "3  Adelie  Torgersen             NaN            NaN                NaN   \n",
              "4  Adelie  Torgersen            36.7           19.3              193.0   \n",
              "\n",
              "   body_mass_g     sex  year  \n",
              "0       3750.0    male  2007  \n",
              "1       3800.0  female  2007  \n",
              "2       3250.0  female  2007  \n",
              "3          NaN     NaN  2007  \n",
              "4       3450.0  female  2007  "
            ],
            "text/html": [
              "\n",
              "  <div id=\"df-8b5b408a-86e8-43e6-9ced-08ae0cbc3a82\" class=\"colab-df-container\">\n",
              "    <div>\n",
              "<style scoped>\n",
              "    .dataframe tbody tr th:only-of-type {\n",
              "        vertical-align: middle;\n",
              "    }\n",
              "\n",
              "    .dataframe tbody tr th {\n",
              "        vertical-align: top;\n",
              "    }\n",
              "\n",
              "    .dataframe thead th {\n",
              "        text-align: right;\n",
              "    }\n",
              "</style>\n",
              "<table border=\"1\" class=\"dataframe\">\n",
              "  <thead>\n",
              "    <tr style=\"text-align: right;\">\n",
              "      <th></th>\n",
              "      <th>species</th>\n",
              "      <th>island</th>\n",
              "      <th>bill_length_mm</th>\n",
              "      <th>bill_depth_mm</th>\n",
              "      <th>flipper_length_mm</th>\n",
              "      <th>body_mass_g</th>\n",
              "      <th>sex</th>\n",
              "      <th>year</th>\n",
              "    </tr>\n",
              "  </thead>\n",
              "  <tbody>\n",
              "    <tr>\n",
              "      <th>0</th>\n",
              "      <td>Adelie</td>\n",
              "      <td>Torgersen</td>\n",
              "      <td>39.1</td>\n",
              "      <td>18.7</td>\n",
              "      <td>181.0</td>\n",
              "      <td>3750.0</td>\n",
              "      <td>male</td>\n",
              "      <td>2007</td>\n",
              "    </tr>\n",
              "    <tr>\n",
              "      <th>1</th>\n",
              "      <td>Adelie</td>\n",
              "      <td>Torgersen</td>\n",
              "      <td>39.5</td>\n",
              "      <td>17.4</td>\n",
              "      <td>186.0</td>\n",
              "      <td>3800.0</td>\n",
              "      <td>female</td>\n",
              "      <td>2007</td>\n",
              "    </tr>\n",
              "    <tr>\n",
              "      <th>2</th>\n",
              "      <td>Adelie</td>\n",
              "      <td>Torgersen</td>\n",
              "      <td>40.3</td>\n",
              "      <td>18.0</td>\n",
              "      <td>195.0</td>\n",
              "      <td>3250.0</td>\n",
              "      <td>female</td>\n",
              "      <td>2007</td>\n",
              "    </tr>\n",
              "    <tr>\n",
              "      <th>3</th>\n",
              "      <td>Adelie</td>\n",
              "      <td>Torgersen</td>\n",
              "      <td>NaN</td>\n",
              "      <td>NaN</td>\n",
              "      <td>NaN</td>\n",
              "      <td>NaN</td>\n",
              "      <td>NaN</td>\n",
              "      <td>2007</td>\n",
              "    </tr>\n",
              "    <tr>\n",
              "      <th>4</th>\n",
              "      <td>Adelie</td>\n",
              "      <td>Torgersen</td>\n",
              "      <td>36.7</td>\n",
              "      <td>19.3</td>\n",
              "      <td>193.0</td>\n",
              "      <td>3450.0</td>\n",
              "      <td>female</td>\n",
              "      <td>2007</td>\n",
              "    </tr>\n",
              "  </tbody>\n",
              "</table>\n",
              "</div>\n",
              "    <div class=\"colab-df-buttons\">\n",
              "\n",
              "  <div class=\"colab-df-container\">\n",
              "    <button class=\"colab-df-convert\" onclick=\"convertToInteractive('df-8b5b408a-86e8-43e6-9ced-08ae0cbc3a82')\"\n",
              "            title=\"Convert this dataframe to an interactive table.\"\n",
              "            style=\"display:none;\">\n",
              "\n",
              "  <svg xmlns=\"http://www.w3.org/2000/svg\" height=\"24px\" viewBox=\"0 -960 960 960\">\n",
              "    <path d=\"M120-120v-720h720v720H120Zm60-500h600v-160H180v160Zm220 220h160v-160H400v160Zm0 220h160v-160H400v160ZM180-400h160v-160H180v160Zm440 0h160v-160H620v160ZM180-180h160v-160H180v160Zm440 0h160v-160H620v160Z\"/>\n",
              "  </svg>\n",
              "    </button>\n",
              "\n",
              "  <style>\n",
              "    .colab-df-container {\n",
              "      display:flex;\n",
              "      gap: 12px;\n",
              "    }\n",
              "\n",
              "    .colab-df-convert {\n",
              "      background-color: #E8F0FE;\n",
              "      border: none;\n",
              "      border-radius: 50%;\n",
              "      cursor: pointer;\n",
              "      display: none;\n",
              "      fill: #1967D2;\n",
              "      height: 32px;\n",
              "      padding: 0 0 0 0;\n",
              "      width: 32px;\n",
              "    }\n",
              "\n",
              "    .colab-df-convert:hover {\n",
              "      background-color: #E2EBFA;\n",
              "      box-shadow: 0px 1px 2px rgba(60, 64, 67, 0.3), 0px 1px 3px 1px rgba(60, 64, 67, 0.15);\n",
              "      fill: #174EA6;\n",
              "    }\n",
              "\n",
              "    .colab-df-buttons div {\n",
              "      margin-bottom: 4px;\n",
              "    }\n",
              "\n",
              "    [theme=dark] .colab-df-convert {\n",
              "      background-color: #3B4455;\n",
              "      fill: #D2E3FC;\n",
              "    }\n",
              "\n",
              "    [theme=dark] .colab-df-convert:hover {\n",
              "      background-color: #434B5C;\n",
              "      box-shadow: 0px 1px 3px 1px rgba(0, 0, 0, 0.15);\n",
              "      filter: drop-shadow(0px 1px 2px rgba(0, 0, 0, 0.3));\n",
              "      fill: #FFFFFF;\n",
              "    }\n",
              "  </style>\n",
              "\n",
              "    <script>\n",
              "      const buttonEl =\n",
              "        document.querySelector('#df-8b5b408a-86e8-43e6-9ced-08ae0cbc3a82 button.colab-df-convert');\n",
              "      buttonEl.style.display =\n",
              "        google.colab.kernel.accessAllowed ? 'block' : 'none';\n",
              "\n",
              "      async function convertToInteractive(key) {\n",
              "        const element = document.querySelector('#df-8b5b408a-86e8-43e6-9ced-08ae0cbc3a82');\n",
              "        const dataTable =\n",
              "          await google.colab.kernel.invokeFunction('convertToInteractive',\n",
              "                                                    [key], {});\n",
              "        if (!dataTable) return;\n",
              "\n",
              "        const docLinkHtml = 'Like what you see? Visit the ' +\n",
              "          '<a target=\"_blank\" href=https://colab.research.google.com/notebooks/data_table.ipynb>data table notebook</a>'\n",
              "          + ' to learn more about interactive tables.';\n",
              "        element.innerHTML = '';\n",
              "        dataTable['output_type'] = 'display_data';\n",
              "        await google.colab.output.renderOutput(dataTable, element);\n",
              "        const docLink = document.createElement('div');\n",
              "        docLink.innerHTML = docLinkHtml;\n",
              "        element.appendChild(docLink);\n",
              "      }\n",
              "    </script>\n",
              "  </div>\n",
              "\n",
              "\n",
              "<div id=\"df-617aaa3b-5778-414b-8fc6-338cc60e8095\">\n",
              "  <button class=\"colab-df-quickchart\" onclick=\"quickchart('df-617aaa3b-5778-414b-8fc6-338cc60e8095')\"\n",
              "            title=\"Suggest charts.\"\n",
              "            style=\"display:none;\">\n",
              "\n",
              "<svg xmlns=\"http://www.w3.org/2000/svg\" height=\"24px\"viewBox=\"0 0 24 24\"\n",
              "     width=\"24px\">\n",
              "    <g>\n",
              "        <path d=\"M19 3H5c-1.1 0-2 .9-2 2v14c0 1.1.9 2 2 2h14c1.1 0 2-.9 2-2V5c0-1.1-.9-2-2-2zM9 17H7v-7h2v7zm4 0h-2V7h2v10zm4 0h-2v-4h2v4z\"/>\n",
              "    </g>\n",
              "</svg>\n",
              "  </button>\n",
              "\n",
              "<style>\n",
              "  .colab-df-quickchart {\n",
              "      --bg-color: #E8F0FE;\n",
              "      --fill-color: #1967D2;\n",
              "      --hover-bg-color: #E2EBFA;\n",
              "      --hover-fill-color: #174EA6;\n",
              "      --disabled-fill-color: #AAA;\n",
              "      --disabled-bg-color: #DDD;\n",
              "  }\n",
              "\n",
              "  [theme=dark] .colab-df-quickchart {\n",
              "      --bg-color: #3B4455;\n",
              "      --fill-color: #D2E3FC;\n",
              "      --hover-bg-color: #434B5C;\n",
              "      --hover-fill-color: #FFFFFF;\n",
              "      --disabled-bg-color: #3B4455;\n",
              "      --disabled-fill-color: #666;\n",
              "  }\n",
              "\n",
              "  .colab-df-quickchart {\n",
              "    background-color: var(--bg-color);\n",
              "    border: none;\n",
              "    border-radius: 50%;\n",
              "    cursor: pointer;\n",
              "    display: none;\n",
              "    fill: var(--fill-color);\n",
              "    height: 32px;\n",
              "    padding: 0;\n",
              "    width: 32px;\n",
              "  }\n",
              "\n",
              "  .colab-df-quickchart:hover {\n",
              "    background-color: var(--hover-bg-color);\n",
              "    box-shadow: 0 1px 2px rgba(60, 64, 67, 0.3), 0 1px 3px 1px rgba(60, 64, 67, 0.15);\n",
              "    fill: var(--button-hover-fill-color);\n",
              "  }\n",
              "\n",
              "  .colab-df-quickchart-complete:disabled,\n",
              "  .colab-df-quickchart-complete:disabled:hover {\n",
              "    background-color: var(--disabled-bg-color);\n",
              "    fill: var(--disabled-fill-color);\n",
              "    box-shadow: none;\n",
              "  }\n",
              "\n",
              "  .colab-df-spinner {\n",
              "    border: 2px solid var(--fill-color);\n",
              "    border-color: transparent;\n",
              "    border-bottom-color: var(--fill-color);\n",
              "    animation:\n",
              "      spin 1s steps(1) infinite;\n",
              "  }\n",
              "\n",
              "  @keyframes spin {\n",
              "    0% {\n",
              "      border-color: transparent;\n",
              "      border-bottom-color: var(--fill-color);\n",
              "      border-left-color: var(--fill-color);\n",
              "    }\n",
              "    20% {\n",
              "      border-color: transparent;\n",
              "      border-left-color: var(--fill-color);\n",
              "      border-top-color: var(--fill-color);\n",
              "    }\n",
              "    30% {\n",
              "      border-color: transparent;\n",
              "      border-left-color: var(--fill-color);\n",
              "      border-top-color: var(--fill-color);\n",
              "      border-right-color: var(--fill-color);\n",
              "    }\n",
              "    40% {\n",
              "      border-color: transparent;\n",
              "      border-right-color: var(--fill-color);\n",
              "      border-top-color: var(--fill-color);\n",
              "    }\n",
              "    60% {\n",
              "      border-color: transparent;\n",
              "      border-right-color: var(--fill-color);\n",
              "    }\n",
              "    80% {\n",
              "      border-color: transparent;\n",
              "      border-right-color: var(--fill-color);\n",
              "      border-bottom-color: var(--fill-color);\n",
              "    }\n",
              "    90% {\n",
              "      border-color: transparent;\n",
              "      border-bottom-color: var(--fill-color);\n",
              "    }\n",
              "  }\n",
              "</style>\n",
              "\n",
              "  <script>\n",
              "    async function quickchart(key) {\n",
              "      const quickchartButtonEl =\n",
              "        document.querySelector('#' + key + ' button');\n",
              "      quickchartButtonEl.disabled = true;  // To prevent multiple clicks.\n",
              "      quickchartButtonEl.classList.add('colab-df-spinner');\n",
              "      try {\n",
              "        const charts = await google.colab.kernel.invokeFunction(\n",
              "            'suggestCharts', [key], {});\n",
              "      } catch (error) {\n",
              "        console.error('Error during call to suggestCharts:', error);\n",
              "      }\n",
              "      quickchartButtonEl.classList.remove('colab-df-spinner');\n",
              "      quickchartButtonEl.classList.add('colab-df-quickchart-complete');\n",
              "    }\n",
              "    (() => {\n",
              "      let quickchartButtonEl =\n",
              "        document.querySelector('#df-617aaa3b-5778-414b-8fc6-338cc60e8095 button');\n",
              "      quickchartButtonEl.style.display =\n",
              "        google.colab.kernel.accessAllowed ? 'block' : 'none';\n",
              "    })();\n",
              "  </script>\n",
              "</div>\n",
              "    </div>\n",
              "  </div>\n"
            ]
          },
          "metadata": {},
          "execution_count": 7
        }
      ]
    },
    {
      "cell_type": "markdown",
      "source": [
        "df.tail() looks at the last x rows, where deault is x = 5."
      ],
      "metadata": {
        "id": "ZBcjCK2_pjzk"
      }
    },
    {
      "cell_type": "code",
      "source": [
        "penguins.tail(10)"
      ],
      "metadata": {
        "colab": {
          "base_uri": "https://localhost:8080/",
          "height": 363
        },
        "id": "X9MmQJTVpb2r",
        "outputId": "8736ec91-1e14-41a3-a8b5-e37817ce38b5"
      },
      "execution_count": null,
      "outputs": [
        {
          "output_type": "execute_result",
          "data": {
            "text/plain": [
              "       species island  bill_length_mm  bill_depth_mm  flipper_length_mm  \\\n",
              "334  Chinstrap  Dream            50.2           18.8              202.0   \n",
              "335  Chinstrap  Dream            45.6           19.4              194.0   \n",
              "336  Chinstrap  Dream            51.9           19.5              206.0   \n",
              "337  Chinstrap  Dream            46.8           16.5              189.0   \n",
              "338  Chinstrap  Dream            45.7           17.0              195.0   \n",
              "339  Chinstrap  Dream            55.8           19.8              207.0   \n",
              "340  Chinstrap  Dream            43.5           18.1              202.0   \n",
              "341  Chinstrap  Dream            49.6           18.2              193.0   \n",
              "342  Chinstrap  Dream            50.8           19.0              210.0   \n",
              "343  Chinstrap  Dream            50.2           18.7              198.0   \n",
              "\n",
              "     body_mass_g     sex  year  \n",
              "334       3800.0    male  2009  \n",
              "335       3525.0  female  2009  \n",
              "336       3950.0    male  2009  \n",
              "337       3650.0  female  2009  \n",
              "338       3650.0  female  2009  \n",
              "339       4000.0    male  2009  \n",
              "340       3400.0  female  2009  \n",
              "341       3775.0    male  2009  \n",
              "342       4100.0    male  2009  \n",
              "343       3775.0  female  2009  "
            ],
            "text/html": [
              "\n",
              "  <div id=\"df-d7be63b4-3823-47bb-965d-2b53e1f205ef\" class=\"colab-df-container\">\n",
              "    <div>\n",
              "<style scoped>\n",
              "    .dataframe tbody tr th:only-of-type {\n",
              "        vertical-align: middle;\n",
              "    }\n",
              "\n",
              "    .dataframe tbody tr th {\n",
              "        vertical-align: top;\n",
              "    }\n",
              "\n",
              "    .dataframe thead th {\n",
              "        text-align: right;\n",
              "    }\n",
              "</style>\n",
              "<table border=\"1\" class=\"dataframe\">\n",
              "  <thead>\n",
              "    <tr style=\"text-align: right;\">\n",
              "      <th></th>\n",
              "      <th>species</th>\n",
              "      <th>island</th>\n",
              "      <th>bill_length_mm</th>\n",
              "      <th>bill_depth_mm</th>\n",
              "      <th>flipper_length_mm</th>\n",
              "      <th>body_mass_g</th>\n",
              "      <th>sex</th>\n",
              "      <th>year</th>\n",
              "    </tr>\n",
              "  </thead>\n",
              "  <tbody>\n",
              "    <tr>\n",
              "      <th>334</th>\n",
              "      <td>Chinstrap</td>\n",
              "      <td>Dream</td>\n",
              "      <td>50.2</td>\n",
              "      <td>18.8</td>\n",
              "      <td>202.0</td>\n",
              "      <td>3800.0</td>\n",
              "      <td>male</td>\n",
              "      <td>2009</td>\n",
              "    </tr>\n",
              "    <tr>\n",
              "      <th>335</th>\n",
              "      <td>Chinstrap</td>\n",
              "      <td>Dream</td>\n",
              "      <td>45.6</td>\n",
              "      <td>19.4</td>\n",
              "      <td>194.0</td>\n",
              "      <td>3525.0</td>\n",
              "      <td>female</td>\n",
              "      <td>2009</td>\n",
              "    </tr>\n",
              "    <tr>\n",
              "      <th>336</th>\n",
              "      <td>Chinstrap</td>\n",
              "      <td>Dream</td>\n",
              "      <td>51.9</td>\n",
              "      <td>19.5</td>\n",
              "      <td>206.0</td>\n",
              "      <td>3950.0</td>\n",
              "      <td>male</td>\n",
              "      <td>2009</td>\n",
              "    </tr>\n",
              "    <tr>\n",
              "      <th>337</th>\n",
              "      <td>Chinstrap</td>\n",
              "      <td>Dream</td>\n",
              "      <td>46.8</td>\n",
              "      <td>16.5</td>\n",
              "      <td>189.0</td>\n",
              "      <td>3650.0</td>\n",
              "      <td>female</td>\n",
              "      <td>2009</td>\n",
              "    </tr>\n",
              "    <tr>\n",
              "      <th>338</th>\n",
              "      <td>Chinstrap</td>\n",
              "      <td>Dream</td>\n",
              "      <td>45.7</td>\n",
              "      <td>17.0</td>\n",
              "      <td>195.0</td>\n",
              "      <td>3650.0</td>\n",
              "      <td>female</td>\n",
              "      <td>2009</td>\n",
              "    </tr>\n",
              "    <tr>\n",
              "      <th>339</th>\n",
              "      <td>Chinstrap</td>\n",
              "      <td>Dream</td>\n",
              "      <td>55.8</td>\n",
              "      <td>19.8</td>\n",
              "      <td>207.0</td>\n",
              "      <td>4000.0</td>\n",
              "      <td>male</td>\n",
              "      <td>2009</td>\n",
              "    </tr>\n",
              "    <tr>\n",
              "      <th>340</th>\n",
              "      <td>Chinstrap</td>\n",
              "      <td>Dream</td>\n",
              "      <td>43.5</td>\n",
              "      <td>18.1</td>\n",
              "      <td>202.0</td>\n",
              "      <td>3400.0</td>\n",
              "      <td>female</td>\n",
              "      <td>2009</td>\n",
              "    </tr>\n",
              "    <tr>\n",
              "      <th>341</th>\n",
              "      <td>Chinstrap</td>\n",
              "      <td>Dream</td>\n",
              "      <td>49.6</td>\n",
              "      <td>18.2</td>\n",
              "      <td>193.0</td>\n",
              "      <td>3775.0</td>\n",
              "      <td>male</td>\n",
              "      <td>2009</td>\n",
              "    </tr>\n",
              "    <tr>\n",
              "      <th>342</th>\n",
              "      <td>Chinstrap</td>\n",
              "      <td>Dream</td>\n",
              "      <td>50.8</td>\n",
              "      <td>19.0</td>\n",
              "      <td>210.0</td>\n",
              "      <td>4100.0</td>\n",
              "      <td>male</td>\n",
              "      <td>2009</td>\n",
              "    </tr>\n",
              "    <tr>\n",
              "      <th>343</th>\n",
              "      <td>Chinstrap</td>\n",
              "      <td>Dream</td>\n",
              "      <td>50.2</td>\n",
              "      <td>18.7</td>\n",
              "      <td>198.0</td>\n",
              "      <td>3775.0</td>\n",
              "      <td>female</td>\n",
              "      <td>2009</td>\n",
              "    </tr>\n",
              "  </tbody>\n",
              "</table>\n",
              "</div>\n",
              "    <div class=\"colab-df-buttons\">\n",
              "\n",
              "  <div class=\"colab-df-container\">\n",
              "    <button class=\"colab-df-convert\" onclick=\"convertToInteractive('df-d7be63b4-3823-47bb-965d-2b53e1f205ef')\"\n",
              "            title=\"Convert this dataframe to an interactive table.\"\n",
              "            style=\"display:none;\">\n",
              "\n",
              "  <svg xmlns=\"http://www.w3.org/2000/svg\" height=\"24px\" viewBox=\"0 -960 960 960\">\n",
              "    <path d=\"M120-120v-720h720v720H120Zm60-500h600v-160H180v160Zm220 220h160v-160H400v160Zm0 220h160v-160H400v160ZM180-400h160v-160H180v160Zm440 0h160v-160H620v160ZM180-180h160v-160H180v160Zm440 0h160v-160H620v160Z\"/>\n",
              "  </svg>\n",
              "    </button>\n",
              "\n",
              "  <style>\n",
              "    .colab-df-container {\n",
              "      display:flex;\n",
              "      gap: 12px;\n",
              "    }\n",
              "\n",
              "    .colab-df-convert {\n",
              "      background-color: #E8F0FE;\n",
              "      border: none;\n",
              "      border-radius: 50%;\n",
              "      cursor: pointer;\n",
              "      display: none;\n",
              "      fill: #1967D2;\n",
              "      height: 32px;\n",
              "      padding: 0 0 0 0;\n",
              "      width: 32px;\n",
              "    }\n",
              "\n",
              "    .colab-df-convert:hover {\n",
              "      background-color: #E2EBFA;\n",
              "      box-shadow: 0px 1px 2px rgba(60, 64, 67, 0.3), 0px 1px 3px 1px rgba(60, 64, 67, 0.15);\n",
              "      fill: #174EA6;\n",
              "    }\n",
              "\n",
              "    .colab-df-buttons div {\n",
              "      margin-bottom: 4px;\n",
              "    }\n",
              "\n",
              "    [theme=dark] .colab-df-convert {\n",
              "      background-color: #3B4455;\n",
              "      fill: #D2E3FC;\n",
              "    }\n",
              "\n",
              "    [theme=dark] .colab-df-convert:hover {\n",
              "      background-color: #434B5C;\n",
              "      box-shadow: 0px 1px 3px 1px rgba(0, 0, 0, 0.15);\n",
              "      filter: drop-shadow(0px 1px 2px rgba(0, 0, 0, 0.3));\n",
              "      fill: #FFFFFF;\n",
              "    }\n",
              "  </style>\n",
              "\n",
              "    <script>\n",
              "      const buttonEl =\n",
              "        document.querySelector('#df-d7be63b4-3823-47bb-965d-2b53e1f205ef button.colab-df-convert');\n",
              "      buttonEl.style.display =\n",
              "        google.colab.kernel.accessAllowed ? 'block' : 'none';\n",
              "\n",
              "      async function convertToInteractive(key) {\n",
              "        const element = document.querySelector('#df-d7be63b4-3823-47bb-965d-2b53e1f205ef');\n",
              "        const dataTable =\n",
              "          await google.colab.kernel.invokeFunction('convertToInteractive',\n",
              "                                                    [key], {});\n",
              "        if (!dataTable) return;\n",
              "\n",
              "        const docLinkHtml = 'Like what you see? Visit the ' +\n",
              "          '<a target=\"_blank\" href=https://colab.research.google.com/notebooks/data_table.ipynb>data table notebook</a>'\n",
              "          + ' to learn more about interactive tables.';\n",
              "        element.innerHTML = '';\n",
              "        dataTable['output_type'] = 'display_data';\n",
              "        await google.colab.output.renderOutput(dataTable, element);\n",
              "        const docLink = document.createElement('div');\n",
              "        docLink.innerHTML = docLinkHtml;\n",
              "        element.appendChild(docLink);\n",
              "      }\n",
              "    </script>\n",
              "  </div>\n",
              "\n",
              "\n",
              "<div id=\"df-e3fc3dc4-3bf9-4f51-a160-f4f780338a30\">\n",
              "  <button class=\"colab-df-quickchart\" onclick=\"quickchart('df-e3fc3dc4-3bf9-4f51-a160-f4f780338a30')\"\n",
              "            title=\"Suggest charts.\"\n",
              "            style=\"display:none;\">\n",
              "\n",
              "<svg xmlns=\"http://www.w3.org/2000/svg\" height=\"24px\"viewBox=\"0 0 24 24\"\n",
              "     width=\"24px\">\n",
              "    <g>\n",
              "        <path d=\"M19 3H5c-1.1 0-2 .9-2 2v14c0 1.1.9 2 2 2h14c1.1 0 2-.9 2-2V5c0-1.1-.9-2-2-2zM9 17H7v-7h2v7zm4 0h-2V7h2v10zm4 0h-2v-4h2v4z\"/>\n",
              "    </g>\n",
              "</svg>\n",
              "  </button>\n",
              "\n",
              "<style>\n",
              "  .colab-df-quickchart {\n",
              "      --bg-color: #E8F0FE;\n",
              "      --fill-color: #1967D2;\n",
              "      --hover-bg-color: #E2EBFA;\n",
              "      --hover-fill-color: #174EA6;\n",
              "      --disabled-fill-color: #AAA;\n",
              "      --disabled-bg-color: #DDD;\n",
              "  }\n",
              "\n",
              "  [theme=dark] .colab-df-quickchart {\n",
              "      --bg-color: #3B4455;\n",
              "      --fill-color: #D2E3FC;\n",
              "      --hover-bg-color: #434B5C;\n",
              "      --hover-fill-color: #FFFFFF;\n",
              "      --disabled-bg-color: #3B4455;\n",
              "      --disabled-fill-color: #666;\n",
              "  }\n",
              "\n",
              "  .colab-df-quickchart {\n",
              "    background-color: var(--bg-color);\n",
              "    border: none;\n",
              "    border-radius: 50%;\n",
              "    cursor: pointer;\n",
              "    display: none;\n",
              "    fill: var(--fill-color);\n",
              "    height: 32px;\n",
              "    padding: 0;\n",
              "    width: 32px;\n",
              "  }\n",
              "\n",
              "  .colab-df-quickchart:hover {\n",
              "    background-color: var(--hover-bg-color);\n",
              "    box-shadow: 0 1px 2px rgba(60, 64, 67, 0.3), 0 1px 3px 1px rgba(60, 64, 67, 0.15);\n",
              "    fill: var(--button-hover-fill-color);\n",
              "  }\n",
              "\n",
              "  .colab-df-quickchart-complete:disabled,\n",
              "  .colab-df-quickchart-complete:disabled:hover {\n",
              "    background-color: var(--disabled-bg-color);\n",
              "    fill: var(--disabled-fill-color);\n",
              "    box-shadow: none;\n",
              "  }\n",
              "\n",
              "  .colab-df-spinner {\n",
              "    border: 2px solid var(--fill-color);\n",
              "    border-color: transparent;\n",
              "    border-bottom-color: var(--fill-color);\n",
              "    animation:\n",
              "      spin 1s steps(1) infinite;\n",
              "  }\n",
              "\n",
              "  @keyframes spin {\n",
              "    0% {\n",
              "      border-color: transparent;\n",
              "      border-bottom-color: var(--fill-color);\n",
              "      border-left-color: var(--fill-color);\n",
              "    }\n",
              "    20% {\n",
              "      border-color: transparent;\n",
              "      border-left-color: var(--fill-color);\n",
              "      border-top-color: var(--fill-color);\n",
              "    }\n",
              "    30% {\n",
              "      border-color: transparent;\n",
              "      border-left-color: var(--fill-color);\n",
              "      border-top-color: var(--fill-color);\n",
              "      border-right-color: var(--fill-color);\n",
              "    }\n",
              "    40% {\n",
              "      border-color: transparent;\n",
              "      border-right-color: var(--fill-color);\n",
              "      border-top-color: var(--fill-color);\n",
              "    }\n",
              "    60% {\n",
              "      border-color: transparent;\n",
              "      border-right-color: var(--fill-color);\n",
              "    }\n",
              "    80% {\n",
              "      border-color: transparent;\n",
              "      border-right-color: var(--fill-color);\n",
              "      border-bottom-color: var(--fill-color);\n",
              "    }\n",
              "    90% {\n",
              "      border-color: transparent;\n",
              "      border-bottom-color: var(--fill-color);\n",
              "    }\n",
              "  }\n",
              "</style>\n",
              "\n",
              "  <script>\n",
              "    async function quickchart(key) {\n",
              "      const quickchartButtonEl =\n",
              "        document.querySelector('#' + key + ' button');\n",
              "      quickchartButtonEl.disabled = true;  // To prevent multiple clicks.\n",
              "      quickchartButtonEl.classList.add('colab-df-spinner');\n",
              "      try {\n",
              "        const charts = await google.colab.kernel.invokeFunction(\n",
              "            'suggestCharts', [key], {});\n",
              "      } catch (error) {\n",
              "        console.error('Error during call to suggestCharts:', error);\n",
              "      }\n",
              "      quickchartButtonEl.classList.remove('colab-df-spinner');\n",
              "      quickchartButtonEl.classList.add('colab-df-quickchart-complete');\n",
              "    }\n",
              "    (() => {\n",
              "      let quickchartButtonEl =\n",
              "        document.querySelector('#df-e3fc3dc4-3bf9-4f51-a160-f4f780338a30 button');\n",
              "      quickchartButtonEl.style.display =\n",
              "        google.colab.kernel.accessAllowed ? 'block' : 'none';\n",
              "    })();\n",
              "  </script>\n",
              "</div>\n",
              "    </div>\n",
              "  </div>\n"
            ]
          },
          "metadata": {},
          "execution_count": 15
        }
      ]
    },
    {
      "cell_type": "markdown",
      "source": [
        "Check the names of the columns"
      ],
      "metadata": {
        "id": "ZZkFRFVPHcDJ"
      }
    },
    {
      "cell_type": "markdown",
      "source": [
        "What are the columns, and how are the values stored in each column?\n",
        "Use the dtypes attribute (pandas.DataFrame object attribute)"
      ],
      "metadata": {
        "id": "zyUMIjAxH-Yz"
      }
    },
    {
      "cell_type": "code",
      "source": [
        "penguins.dtypes"
      ],
      "metadata": {
        "colab": {
          "base_uri": "https://localhost:8080/"
        },
        "id": "5YeAIiDrHfGo",
        "outputId": "52f66ce7-fd16-4f74-d437-4ea8f9b53cd9"
      },
      "execution_count": null,
      "outputs": [
        {
          "output_type": "execute_result",
          "data": {
            "text/plain": [
              "species               object\n",
              "island                object\n",
              "bill_length_mm       float64\n",
              "bill_depth_mm        float64\n",
              "flipper_length_mm    float64\n",
              "body_mass_g          float64\n",
              "sex                   object\n",
              "year                   int64\n",
              "dtype: object"
            ]
          },
          "metadata": {},
          "execution_count": 21
        }
      ]
    },
    {
      "cell_type": "markdown",
      "source": [
        "What more should we know about the object?\n",
        "\n",
        "- Check the data type (ie, in what format is this data stored)"
      ],
      "metadata": {
        "id": "Y9do4YyKputd"
      }
    },
    {
      "cell_type": "markdown",
      "source": [
        "The object *penguins* is a pandas.core.frame.DataFrame object. This dataframe is an instance of a class. You can operate on the object by calling"
      ],
      "metadata": {
        "id": "pqfYg2hhvTOY"
      }
    },
    {
      "cell_type": "code",
      "source": [
        "penguins.shape"
      ],
      "metadata": {
        "colab": {
          "base_uri": "https://localhost:8080/"
        },
        "id": "hsQBy8B8qAl6",
        "outputId": "e204dcd8-356c-49a7-d26e-46ef2086c1c6"
      },
      "execution_count": null,
      "outputs": [
        {
          "output_type": "execute_result",
          "data": {
            "text/plain": [
              "(344, 8)"
            ]
          },
          "metadata": {},
          "execution_count": 19
        }
      ]
    },
    {
      "cell_type": "code",
      "source": [
        "type(penguins['species'])"
      ],
      "metadata": {
        "colab": {
          "base_uri": "https://localhost:8080/"
        },
        "id": "6AZlMqAop8EI",
        "outputId": "a16be0c6-5d55-4268-b268-8631ce7d3b08"
      },
      "execution_count": null,
      "outputs": [
        {
          "output_type": "execute_result",
          "data": {
            "text/plain": [
              "pandas.core.series.Series"
            ]
          },
          "metadata": {},
          "execution_count": 17
        }
      ]
    },
    {
      "cell_type": "markdown",
      "source": [
        "Filtering, viewing"
      ],
      "metadata": {
        "id": "bLWuy-60EAgG"
      }
    },
    {
      "cell_type": "code",
      "source": [
        "%load_ext rpy2.ipython"
      ],
      "metadata": {
        "colab": {
          "base_uri": "https://localhost:8080/"
        },
        "id": "09sfj1ZbEEGo",
        "outputId": "fdf4b2af-d753-4bc4-928b-e01958790718"
      },
      "execution_count": null,
      "outputs": [
        {
          "output_type": "stream",
          "name": "stdout",
          "text": [
            "The rpy2.ipython extension is already loaded. To reload it, use:\n",
            "  %reload_ext rpy2.ipython\n"
          ]
        }
      ]
    },
    {
      "cell_type": "markdown",
      "source": [
        "### Common operations in R (tidyverse example)\n",
        "To run a cell in R, use the rpy2.ipython extension and the %R magic:\n",
        "\n",
        "\n",
        "*   %%R to run the cell in R\n",
        "*   %R to run the line in R\n",
        "\n",
        "Learn more about R <-> Python magic here: https://rpy2.github.io/doc/latest/html/interactive.html\n"
      ],
      "metadata": {
        "id": "J7mdLztFEFOA"
      }
    },
    {
      "cell_type": "code",
      "source": [
        "%%R\n",
        "library(tidyverse)\n"
      ],
      "metadata": {
        "id": "m8YUXwktDux3"
      },
      "execution_count": null,
      "outputs": []
    },
    {
      "cell_type": "markdown",
      "source": [
        "Copy the penguins pandas dataframe to the R environment."
      ],
      "metadata": {
        "id": "5sammX1gGEg2"
      }
    },
    {
      "cell_type": "code",
      "source": [
        "%R -i penguins"
      ],
      "metadata": {
        "colab": {
          "base_uri": "https://localhost:8080/"
        },
        "id": "rezZuoLYGIm3",
        "outputId": "d22edb89-6c7b-48da-9ab3-c51b84c50b42"
      },
      "execution_count": null,
      "outputs": [
        {
          "output_type": "stream",
          "name": "stderr",
          "text": [
            "/usr/local/lib/python3.10/dist-packages/rpy2/robjects/pandas2ri.py:55: FutureWarning: iteritems is deprecated and will be removed in a future version. Use .items instead.\n",
            "  for name, values in obj.iteritems():\n"
          ]
        }
      ]
    },
    {
      "cell_type": "markdown",
      "source": [],
      "metadata": {
        "id": "mk2V1eKcGpFC"
      }
    },
    {
      "cell_type": "code",
      "source": [
        "%%R\n",
        "class(penguins)"
      ],
      "metadata": {
        "colab": {
          "base_uri": "https://localhost:8080/"
        },
        "id": "d4_0rpDsGMeI",
        "outputId": "ea6f59fe-d9e1-43b4-a6df-d44940f786fa"
      },
      "execution_count": null,
      "outputs": [
        {
          "output_type": "stream",
          "name": "stdout",
          "text": [
            "[1] \"data.frame\"\n"
          ]
        }
      ]
    },
    {
      "cell_type": "code",
      "source": [
        "%%R\n",
        "filter(penguins, )"
      ],
      "metadata": {
        "id": "NshGfT5FGENf"
      },
      "execution_count": null,
      "outputs": []
    },
    {
      "cell_type": "markdown",
      "source": [
        "# Visualisation"
      ],
      "metadata": {
        "id": "Bos7Y2qSy_3G"
      }
    },
    {
      "cell_type": "code",
      "source": [],
      "metadata": {
        "id": "y-6HO1bSAEpG"
      },
      "execution_count": null,
      "outputs": []
    },
    {
      "cell_type": "code",
      "source": [
        "from matplotlib import plot\n",
        "import seaborn as sns\n"
      ],
      "metadata": {
        "id": "yzR4ep0U__nG"
      },
      "execution_count": null,
      "outputs": []
    },
    {
      "cell_type": "markdown",
      "source": [
        "# Stats"
      ],
      "metadata": {
        "id": "7mHn-xyWzC1G"
      }
    },
    {
      "cell_type": "markdown",
      "source": [
        "# GIS"
      ],
      "metadata": {
        "id": "WnV2tcuazEme"
      }
    },
    {
      "cell_type": "code",
      "source": [
        "import fiona\n",
        "import geopandas as gpd"
      ],
      "metadata": {
        "id": "MRRFF5H3Mfgh"
      },
      "execution_count": null,
      "outputs": []
    },
    {
      "cell_type": "code",
      "source": [
        "!pip install arcgis"
      ],
      "metadata": {
        "colab": {
          "base_uri": "https://localhost:8080/"
        },
        "id": "SIA_0OjjM8HI",
        "outputId": "2420726b-b6d6-4b64-891c-e784d9c6bfb4"
      },
      "execution_count": null,
      "outputs": [
        {
          "output_type": "stream",
          "name": "stdout",
          "text": [
            "Collecting arcgis\n",
            "  Downloading arcgis-2.2.0.1.tar.gz (47.9 MB)\n",
            "\u001b[2K     \u001b[90m━━━━━━━━━━━━━━━━━━━━━━━━━━━━━━━━━━━━━━━━\u001b[0m \u001b[32m47.9/47.9 MB\u001b[0m \u001b[31m26.2 MB/s\u001b[0m eta \u001b[36m0:00:00\u001b[0m\n",
            "\u001b[?25h  Preparing metadata (setup.py) ... \u001b[?25l\u001b[?25hdone\n",
            "Requirement already satisfied: pillow in /usr/local/lib/python3.10/dist-packages (from arcgis) (9.4.0)\n",
            "Requirement already satisfied: urllib3<3,>=1.21.1 in /usr/local/lib/python3.10/dist-packages (from arcgis) (2.0.7)\n",
            "Requirement already satisfied: cachetools in /usr/local/lib/python3.10/dist-packages (from arcgis) (5.3.2)\n",
            "Requirement already satisfied: lxml in /usr/local/lib/python3.10/dist-packages (from arcgis) (4.9.3)\n",
            "Requirement already satisfied: notebook in /usr/local/lib/python3.10/dist-packages (from arcgis) (6.5.5)\n",
            "Requirement already satisfied: cryptography in /usr/local/lib/python3.10/dist-packages (from arcgis) (41.0.5)\n",
            "Requirement already satisfied: ipywidgets<8,>=7 in /usr/local/lib/python3.10/dist-packages (from arcgis) (7.7.1)\n",
            "Requirement already satisfied: widgetsnbextension>=3 in /usr/local/lib/python3.10/dist-packages (from arcgis) (3.6.6)\n",
            "Requirement already satisfied: jupyter-client<=6.1.12 in /usr/local/lib/python3.10/dist-packages (from arcgis) (6.1.12)\n",
            "Collecting pandas<3,>=2.0.0 (from arcgis)\n",
            "  Using cached pandas-2.1.3-cp310-cp310-manylinux_2_17_x86_64.manylinux2014_x86_64.whl (12.3 MB)\n",
            "Requirement already satisfied: numpy>=1.21.6 in /usr/local/lib/python3.10/dist-packages (from arcgis) (1.23.5)\n",
            "Requirement already satisfied: matplotlib in /usr/local/lib/python3.10/dist-packages (from arcgis) (3.7.1)\n",
            "Requirement already satisfied: keyring>=23.3.0 in /usr/lib/python3/dist-packages (from arcgis) (23.5.0)\n",
            "Collecting pylerc (from arcgis)\n",
            "  Using cached pylerc-4.0-py3-none-any.whl\n",
            "Collecting ujson>=3 (from arcgis)\n",
            "  Using cached ujson-5.8.0-cp310-cp310-manylinux_2_17_x86_64.manylinux2014_x86_64.whl (53 kB)\n",
            "Collecting jupyterlab (from arcgis)\n",
            "  Using cached jupyterlab-4.0.8-py3-none-any.whl (9.2 MB)\n",
            "Requirement already satisfied: pyshp>=2 in /usr/local/lib/python3.10/dist-packages (from arcgis) (2.3.1)\n",
            "Collecting geomet (from arcgis)\n",
            "  Using cached geomet-1.0.0-py3-none-any.whl (28 kB)\n",
            "Requirement already satisfied: requests<3,>=2.27.1 in /usr/local/lib/python3.10/dist-packages (from arcgis) (2.31.0)\n",
            "Requirement already satisfied: requests-oauthlib in /usr/local/lib/python3.10/dist-packages (from arcgis) (1.3.1)\n",
            "Collecting requests_toolbelt (from arcgis)\n",
            "  Using cached requests_toolbelt-1.0.0-py2.py3-none-any.whl (54 kB)\n",
            "Collecting pyspnego>=0.8.0 (from arcgis)\n",
            "  Using cached pyspnego-0.10.2-py3-none-any.whl (129 kB)\n",
            "Collecting requests-kerberos (from arcgis)\n",
            "  Using cached requests_kerberos-0.14.0-py2.py3-none-any.whl (11 kB)\n",
            "Collecting requests-gssapi (from arcgis)\n",
            "  Using cached requests_gssapi-1.2.3-py2.py3-none-any.whl\n",
            "Requirement already satisfied: dask>=2023.3.2 in /usr/local/lib/python3.10/dist-packages (from arcgis) (2023.8.1)\n",
            "Requirement already satisfied: matplotlib-inline in /usr/local/lib/python3.10/dist-packages (from arcgis) (0.1.6)\n",
            "Collecting truststore>=0.7.0 (from arcgis)\n",
            "  Using cached truststore-0.8.0-py3-none-any.whl (16 kB)\n",
            "Requirement already satisfied: click>=8.0 in /usr/local/lib/python3.10/dist-packages (from dask>=2023.3.2->arcgis) (8.1.7)\n",
            "Requirement already satisfied: cloudpickle>=1.5.0 in /usr/local/lib/python3.10/dist-packages (from dask>=2023.3.2->arcgis) (2.2.1)\n",
            "Requirement already satisfied: fsspec>=2021.09.0 in /usr/local/lib/python3.10/dist-packages (from dask>=2023.3.2->arcgis) (2023.6.0)\n",
            "Requirement already satisfied: packaging>=20.0 in /usr/local/lib/python3.10/dist-packages (from dask>=2023.3.2->arcgis) (23.2)\n",
            "Requirement already satisfied: partd>=1.2.0 in /usr/local/lib/python3.10/dist-packages (from dask>=2023.3.2->arcgis) (1.4.1)\n",
            "Requirement already satisfied: pyyaml>=5.3.1 in /usr/local/lib/python3.10/dist-packages (from dask>=2023.3.2->arcgis) (6.0.1)\n",
            "Requirement already satisfied: toolz>=0.10.0 in /usr/local/lib/python3.10/dist-packages (from dask>=2023.3.2->arcgis) (0.12.0)\n",
            "Requirement already satisfied: importlib-metadata>=4.13.0 in /usr/local/lib/python3.10/dist-packages (from dask>=2023.3.2->arcgis) (6.8.0)\n",
            "Requirement already satisfied: ipykernel>=4.5.1 in /usr/local/lib/python3.10/dist-packages (from ipywidgets<8,>=7->arcgis) (5.5.6)\n",
            "Requirement already satisfied: ipython-genutils~=0.2.0 in /usr/local/lib/python3.10/dist-packages (from ipywidgets<8,>=7->arcgis) (0.2.0)\n",
            "Requirement already satisfied: traitlets>=4.3.1 in /usr/local/lib/python3.10/dist-packages (from ipywidgets<8,>=7->arcgis) (5.7.1)\n",
            "Requirement already satisfied: ipython>=4.0.0 in /usr/local/lib/python3.10/dist-packages (from ipywidgets<8,>=7->arcgis) (7.34.0)\n",
            "Requirement already satisfied: jupyterlab-widgets>=1.0.0 in /usr/local/lib/python3.10/dist-packages (from ipywidgets<8,>=7->arcgis) (3.0.9)\n",
            "Requirement already satisfied: jupyter-core>=4.6.0 in /usr/local/lib/python3.10/dist-packages (from jupyter-client<=6.1.12->arcgis) (5.5.0)\n",
            "Requirement already satisfied: pyzmq>=13 in /usr/local/lib/python3.10/dist-packages (from jupyter-client<=6.1.12->arcgis) (23.2.1)\n",
            "Requirement already satisfied: python-dateutil>=2.1 in /usr/local/lib/python3.10/dist-packages (from jupyter-client<=6.1.12->arcgis) (2.8.2)\n",
            "Requirement already satisfied: tornado>=4.1 in /usr/local/lib/python3.10/dist-packages (from jupyter-client<=6.1.12->arcgis) (6.3.2)\n",
            "Requirement already satisfied: pytz>=2020.1 in /usr/local/lib/python3.10/dist-packages (from pandas<3,>=2.0.0->arcgis) (2023.3.post1)\n",
            "Collecting tzdata>=2022.1 (from pandas<3,>=2.0.0->arcgis)\n",
            "  Using cached tzdata-2023.3-py2.py3-none-any.whl (341 kB)\n",
            "Requirement already satisfied: charset-normalizer<4,>=2 in /usr/local/lib/python3.10/dist-packages (from requests<3,>=2.27.1->arcgis) (3.3.2)\n",
            "Requirement already satisfied: idna<4,>=2.5 in /usr/local/lib/python3.10/dist-packages (from requests<3,>=2.27.1->arcgis) (3.4)\n",
            "Requirement already satisfied: certifi>=2017.4.17 in /usr/local/lib/python3.10/dist-packages (from requests<3,>=2.27.1->arcgis) (2023.7.22)\n",
            "Requirement already satisfied: jinja2 in /usr/local/lib/python3.10/dist-packages (from notebook->arcgis) (3.1.2)\n",
            "Requirement already satisfied: argon2-cffi in /usr/local/lib/python3.10/dist-packages (from notebook->arcgis) (23.1.0)\n",
            "Requirement already satisfied: nbformat in /usr/local/lib/python3.10/dist-packages (from notebook->arcgis) (5.9.2)\n",
            "Requirement already satisfied: nbconvert>=5 in /usr/local/lib/python3.10/dist-packages (from notebook->arcgis) (6.5.4)\n",
            "Requirement already satisfied: nest-asyncio>=1.5 in /usr/local/lib/python3.10/dist-packages (from notebook->arcgis) (1.5.8)\n",
            "Requirement already satisfied: Send2Trash>=1.8.0 in /usr/local/lib/python3.10/dist-packages (from notebook->arcgis) (1.8.2)\n",
            "Requirement already satisfied: terminado>=0.8.3 in /usr/local/lib/python3.10/dist-packages (from notebook->arcgis) (0.17.1)\n",
            "Requirement already satisfied: prometheus-client in /usr/local/lib/python3.10/dist-packages (from notebook->arcgis) (0.18.0)\n",
            "Requirement already satisfied: nbclassic>=0.4.7 in /usr/local/lib/python3.10/dist-packages (from notebook->arcgis) (1.0.0)\n",
            "Requirement already satisfied: cffi>=1.12 in /usr/local/lib/python3.10/dist-packages (from cryptography->arcgis) (1.16.0)\n",
            "Requirement already satisfied: six in /usr/local/lib/python3.10/dist-packages (from geomet->arcgis) (1.16.0)\n",
            "Collecting async-lru>=1.0.0 (from jupyterlab->arcgis)\n",
            "  Using cached async_lru-2.0.4-py3-none-any.whl (6.1 kB)\n",
            "Collecting jupyter-lsp>=2.0.0 (from jupyterlab->arcgis)\n",
            "  Using cached jupyter_lsp-2.2.0-py3-none-any.whl (65 kB)\n",
            "Collecting jupyter-server<3,>=2.4.0 (from jupyterlab->arcgis)\n",
            "  Using cached jupyter_server-2.10.0-py3-none-any.whl (377 kB)\n",
            "Collecting jupyterlab-server<3,>=2.19.0 (from jupyterlab->arcgis)\n",
            "  Using cached jupyterlab_server-2.25.1-py3-none-any.whl (58 kB)\n",
            "Requirement already satisfied: notebook-shim>=0.2 in /usr/local/lib/python3.10/dist-packages (from jupyterlab->arcgis) (0.2.3)\n",
            "Requirement already satisfied: tomli in /usr/local/lib/python3.10/dist-packages (from jupyterlab->arcgis) (2.0.1)\n",
            "Requirement already satisfied: contourpy>=1.0.1 in /usr/local/lib/python3.10/dist-packages (from matplotlib->arcgis) (1.2.0)\n",
            "Requirement already satisfied: cycler>=0.10 in /usr/local/lib/python3.10/dist-packages (from matplotlib->arcgis) (0.12.1)\n",
            "Requirement already satisfied: fonttools>=4.22.0 in /usr/local/lib/python3.10/dist-packages (from matplotlib->arcgis) (4.44.0)\n",
            "Requirement already satisfied: kiwisolver>=1.0.1 in /usr/local/lib/python3.10/dist-packages (from matplotlib->arcgis) (1.4.5)\n",
            "Requirement already satisfied: pyparsing>=2.3.1 in /usr/local/lib/python3.10/dist-packages (from matplotlib->arcgis) (3.1.1)\n",
            "Collecting gssapi (from requests-gssapi->arcgis)\n",
            "  Using cached gssapi-1.8.3-cp310-cp310-linux_x86_64.whl\n",
            "Requirement already satisfied: oauthlib>=3.0.0 in /usr/local/lib/python3.10/dist-packages (from requests-oauthlib->arcgis) (3.2.2)\n",
            "Requirement already satisfied: typing-extensions>=4.0.0 in /usr/local/lib/python3.10/dist-packages (from async-lru>=1.0.0->jupyterlab->arcgis) (4.5.0)\n",
            "Requirement already satisfied: pycparser in /usr/local/lib/python3.10/dist-packages (from cffi>=1.12->cryptography->arcgis) (2.21)\n",
            "Requirement already satisfied: zipp>=0.5 in /usr/local/lib/python3.10/dist-packages (from importlib-metadata>=4.13.0->dask>=2023.3.2->arcgis) (3.17.0)\n",
            "Requirement already satisfied: setuptools>=18.5 in /usr/local/lib/python3.10/dist-packages (from ipython>=4.0.0->ipywidgets<8,>=7->arcgis) (67.7.2)\n",
            "Collecting jedi>=0.16 (from ipython>=4.0.0->ipywidgets<8,>=7->arcgis)\n",
            "  Using cached jedi-0.19.1-py2.py3-none-any.whl (1.6 MB)\n",
            "Requirement already satisfied: decorator in /usr/local/lib/python3.10/dist-packages (from ipython>=4.0.0->ipywidgets<8,>=7->arcgis) (4.4.2)\n",
            "Requirement already satisfied: pickleshare in /usr/local/lib/python3.10/dist-packages (from ipython>=4.0.0->ipywidgets<8,>=7->arcgis) (0.7.5)\n",
            "Requirement already satisfied: prompt-toolkit!=3.0.0,!=3.0.1,<3.1.0,>=2.0.0 in /usr/local/lib/python3.10/dist-packages (from ipython>=4.0.0->ipywidgets<8,>=7->arcgis) (3.0.39)\n",
            "Requirement already satisfied: pygments in /usr/local/lib/python3.10/dist-packages (from ipython>=4.0.0->ipywidgets<8,>=7->arcgis) (2.16.1)\n",
            "Requirement already satisfied: backcall in /usr/local/lib/python3.10/dist-packages (from ipython>=4.0.0->ipywidgets<8,>=7->arcgis) (0.2.0)\n",
            "Requirement already satisfied: pexpect>4.3 in /usr/local/lib/python3.10/dist-packages (from ipython>=4.0.0->ipywidgets<8,>=7->arcgis) (4.8.0)\n",
            "Requirement already satisfied: MarkupSafe>=2.0 in /usr/local/lib/python3.10/dist-packages (from jinja2->notebook->arcgis) (2.1.3)\n",
            "Requirement already satisfied: platformdirs>=2.5 in /usr/local/lib/python3.10/dist-packages (from jupyter-core>=4.6.0->jupyter-client<=6.1.12->arcgis) (3.11.0)\n",
            "Requirement already satisfied: anyio>=3.1.0 in /usr/local/lib/python3.10/dist-packages (from jupyter-server<3,>=2.4.0->jupyterlab->arcgis) (3.7.1)\n",
            "INFO: pip is looking at multiple versions of jupyter-server to determine which version is compatible with other requirements. This could take a while.\n",
            "Collecting jupyter-server<3,>=2.4.0 (from jupyterlab->arcgis)\n",
            "  Downloading jupyter_server-2.9.1-py3-none-any.whl (377 kB)\n",
            "\u001b[2K     \u001b[90m━━━━━━━━━━━━━━━━━━━━━━━━━━━━━━━━━━━━━━━━\u001b[0m \u001b[32m377.6/377.6 kB\u001b[0m \u001b[31m37.5 MB/s\u001b[0m eta \u001b[36m0:00:00\u001b[0m\n",
            "\u001b[?25h  Downloading jupyter_server-2.9.0-py3-none-any.whl (377 kB)\n",
            "\u001b[2K     \u001b[90m━━━━━━━━━━━━━━━━━━━━━━━━━━━━━━━━━━━━━━━━\u001b[0m \u001b[32m377.7/377.7 kB\u001b[0m \u001b[31m39.1 MB/s\u001b[0m eta \u001b[36m0:00:00\u001b[0m\n",
            "\u001b[?25h  Downloading jupyter_server-2.8.0-py3-none-any.whl (377 kB)\n",
            "\u001b[2K     \u001b[90m━━━━━━━━━━━━━━━━━━━━━━━━━━━━━━━━━━━━━━━━\u001b[0m \u001b[32m377.6/377.6 kB\u001b[0m \u001b[31m45.8 MB/s\u001b[0m eta \u001b[36m0:00:00\u001b[0m\n",
            "\u001b[?25h  Downloading jupyter_server-2.7.3-py3-none-any.whl (375 kB)\n",
            "\u001b[2K     \u001b[90m━━━━━━━━━━━━━━━━━━━━━━━━━━━━━━━━━━━━━━━━\u001b[0m \u001b[32m375.6/375.6 kB\u001b[0m \u001b[31m42.0 MB/s\u001b[0m eta \u001b[36m0:00:00\u001b[0m\n",
            "\u001b[?25h  Downloading jupyter_server-2.7.2-py3-none-any.whl (375 kB)\n",
            "\u001b[2K     \u001b[90m━━━━━━━━━━━━━━━━━━━━━━━━━━━━━━━━━━━━━━━━\u001b[0m \u001b[32m375.3/375.3 kB\u001b[0m \u001b[31m38.0 MB/s\u001b[0m eta \u001b[36m0:00:00\u001b[0m\n",
            "\u001b[?25h  Downloading jupyter_server-2.7.1-py3-none-any.whl (374 kB)\n",
            "\u001b[2K     \u001b[90m━━━━━━━━━━━━━━━━━━━━━━━━━━━━━━━━━━━━━━━━\u001b[0m \u001b[32m374.9/374.9 kB\u001b[0m \u001b[31m42.6 MB/s\u001b[0m eta \u001b[36m0:00:00\u001b[0m\n",
            "\u001b[?25h  Downloading jupyter_server-2.7.0-py3-none-any.whl (375 kB)\n",
            "\u001b[2K     \u001b[90m━━━━━━━━━━━━━━━━━━━━━━━━━━━━━━━━━━━━━━━━\u001b[0m \u001b[32m375.1/375.1 kB\u001b[0m \u001b[31m45.6 MB/s\u001b[0m eta \u001b[36m0:00:00\u001b[0m\n",
            "\u001b[?25hINFO: pip is looking at multiple versions of jupyter-server to determine which version is compatible with other requirements. This could take a while.\n",
            "  Downloading jupyter_server-2.6.0-py3-none-any.whl (375 kB)\n",
            "\u001b[2K     \u001b[90m━━━━━━━━━━━━━━━━━━━━━━━━━━━━━━━━━━━━━━━━\u001b[0m \u001b[32m375.0/375.0 kB\u001b[0m \u001b[31m41.1 MB/s\u001b[0m eta \u001b[36m0:00:00\u001b[0m\n",
            "\u001b[?25h  Downloading jupyter_server-2.5.0-py3-none-any.whl (366 kB)\n",
            "\u001b[2K     \u001b[90m━━━━━━━━━━━━━━━━━━━━━━━━━━━━━━━━━━━━━━━━\u001b[0m \u001b[32m366.8/366.8 kB\u001b[0m \u001b[31m41.4 MB/s\u001b[0m eta \u001b[36m0:00:00\u001b[0m\n",
            "\u001b[?25h  Downloading jupyter_server-2.4.0-py3-none-any.whl (366 kB)\n",
            "\u001b[2K     \u001b[90m━━━━━━━━━━━━━━━━━━━━━━━━━━━━━━━━━━━━━━━━\u001b[0m \u001b[32m366.7/366.7 kB\u001b[0m \u001b[31m38.0 MB/s\u001b[0m eta \u001b[36m0:00:00\u001b[0m\n",
            "\u001b[?25hCollecting jupyter-lsp>=2.0.0 (from jupyterlab->arcgis)\n",
            "  Downloading jupyter_lsp-2.1.0-py3-none-any.whl (64 kB)\n",
            "\u001b[2K     \u001b[90m━━━━━━━━━━━━━━━━━━━━━━━━━━━━━━━━━━━━━━━━\u001b[0m \u001b[32m64.6/64.6 kB\u001b[0m \u001b[31m9.9 MB/s\u001b[0m eta \u001b[36m0:00:00\u001b[0m\n",
            "\u001b[?25hINFO: This is taking longer than usual. You might need to provide the dependency resolver with stricter constraints to reduce runtime. See https://pip.pypa.io/warnings/backtracking for guidance. If you want to abort this run, press Ctrl + C.\n",
            "Collecting ipykernel>=4.5.1 (from ipywidgets<8,>=7->arcgis)\n",
            "  Downloading ipykernel-6.26.0-py3-none-any.whl (114 kB)\n",
            "\u001b[2K     \u001b[90m━━━━━━━━━━━━━━━━━━━━━━━━━━━━━━━━━━━━━━━━\u001b[0m \u001b[32m114.3/114.3 kB\u001b[0m \u001b[31m16.9 MB/s\u001b[0m eta \u001b[36m0:00:00\u001b[0m\n",
            "\u001b[?25hCollecting comm>=0.1.1 (from ipykernel>=4.5.1->ipywidgets<8,>=7->arcgis)\n",
            "  Downloading comm-0.2.0-py3-none-any.whl (7.0 kB)\n",
            "Requirement already satisfied: debugpy>=1.6.5 in /usr/local/lib/python3.10/dist-packages (from ipykernel>=4.5.1->ipywidgets<8,>=7->arcgis) (1.6.6)\n",
            "Requirement already satisfied: psutil in /usr/local/lib/python3.10/dist-packages (from ipykernel>=4.5.1->ipywidgets<8,>=7->arcgis) (5.9.5)\n",
            "Collecting ipykernel>=4.5.1 (from ipywidgets<8,>=7->arcgis)\n",
            "  Downloading ipykernel-6.25.2-py3-none-any.whl (154 kB)\n",
            "\u001b[2K     \u001b[90m━━━━━━━━━━━━━━━━━━━━━━━━━━━━━━━━━━━━━━━━\u001b[0m \u001b[32m154.2/154.2 kB\u001b[0m \u001b[31m18.5 MB/s\u001b[0m eta \u001b[36m0:00:00\u001b[0m\n",
            "\u001b[?25h  Downloading ipykernel-6.25.1-py3-none-any.whl (154 kB)\n",
            "\u001b[2K     \u001b[90m━━━━━━━━━━━━━━━━━━━━━━━━━━━━━━━━━━━━━━━━\u001b[0m \u001b[32m154.0/154.0 kB\u001b[0m \u001b[31m21.2 MB/s\u001b[0m eta \u001b[36m0:00:00\u001b[0m\n",
            "\u001b[?25h  Downloading ipykernel-6.25.0-py3-none-any.whl (153 kB)\n",
            "\u001b[2K     \u001b[90m━━━━━━━━━━━━━━━━━━━━━━━━━━━━━━━━━━━━━━━━\u001b[0m \u001b[32m153.9/153.9 kB\u001b[0m \u001b[31m19.3 MB/s\u001b[0m eta \u001b[36m0:00:00\u001b[0m\n",
            "\u001b[?25h  Downloading ipykernel-6.24.0-py3-none-any.whl (152 kB)\n",
            "\u001b[2K     \u001b[90m━━━━━━━━━━━━━━━━━━━━━━━━━━━━━━━━━━━━━━━━\u001b[0m \u001b[32m152.8/152.8 kB\u001b[0m \u001b[31m18.1 MB/s\u001b[0m eta \u001b[36m0:00:00\u001b[0m\n",
            "\u001b[?25h  Downloading ipykernel-6.23.3-py3-none-any.whl (152 kB)\n",
            "\u001b[2K     \u001b[90m━━━━━━━━━━━━━━━━━━━━━━━━━━━━━━━━━━━━━━━━\u001b[0m \u001b[32m152.8/152.8 kB\u001b[0m \u001b[31m24.2 MB/s\u001b[0m eta \u001b[36m0:00:00\u001b[0m\n",
            "\u001b[?25h  Downloading ipykernel-6.23.2-py3-none-any.whl (152 kB)\n",
            "\u001b[2K     \u001b[90m━━━━━━━━━━━━━━━━━━━━━━━━━━━━━━━━━━━━━━━━\u001b[0m \u001b[32m152.8/152.8 kB\u001b[0m \u001b[31m24.7 MB/s\u001b[0m eta \u001b[36m0:00:00\u001b[0m\n",
            "\u001b[?25h  Downloading ipykernel-6.23.1-py3-none-any.whl (152 kB)\n",
            "\u001b[2K     \u001b[90m━━━━━━━━━━━━━━━━━━━━━━━━━━━━━━━━━━━━━━━━\u001b[0m \u001b[32m152.2/152.2 kB\u001b[0m \u001b[31m22.2 MB/s\u001b[0m eta \u001b[36m0:00:00\u001b[0m\n",
            "\u001b[?25h  Downloading ipykernel-6.23.0-py3-none-any.whl (150 kB)\n",
            "\u001b[2K     \u001b[90m━━━━━━━━━━━━━━━━━━━━━━━━━━━━━━━━━━━━━━━━\u001b[0m \u001b[32m150.6/150.6 kB\u001b[0m \u001b[31m19.5 MB/s\u001b[0m eta \u001b[36m0:00:00\u001b[0m\n",
            "\u001b[?25h  Downloading ipykernel-6.22.0-py3-none-any.whl (149 kB)\n",
            "\u001b[2K     \u001b[90m━━━━━━━━━━━━━━━━━━━━━━━━━━━━━━━━━━━━━━━━\u001b[0m \u001b[32m150.0/150.0 kB\u001b[0m \u001b[31m16.2 MB/s\u001b[0m eta \u001b[36m0:00:00\u001b[0m\n",
            "\u001b[?25h  Downloading ipykernel-6.21.3-py3-none-any.whl (149 kB)\n",
            "\u001b[2K     \u001b[90m━━━━━━━━━━━━━━━━━━━━━━━━━━━━━━━━━━━━━━━━\u001b[0m \u001b[32m149.4/149.4 kB\u001b[0m \u001b[31m20.0 MB/s\u001b[0m eta \u001b[36m0:00:00\u001b[0m\n",
            "\u001b[?25h  Downloading ipykernel-6.21.2-py3-none-any.whl (149 kB)\n",
            "\u001b[2K     \u001b[90m━━━━━━━━━━━━━━━━━━━━━━━━━━━━━━━━━━━━━━━━\u001b[0m \u001b[32m149.7/149.7 kB\u001b[0m \u001b[31m20.5 MB/s\u001b[0m eta \u001b[36m0:00:00\u001b[0m\n",
            "\u001b[?25h  Downloading ipykernel-6.21.1-py3-none-any.whl (149 kB)\n",
            "\u001b[2K     \u001b[90m━━━━━━━━━━━━━━━━━━━━━━━━━━━━━━━━━━━━━━━━\u001b[0m \u001b[32m149.8/149.8 kB\u001b[0m \u001b[31m20.7 MB/s\u001b[0m eta \u001b[36m0:00:00\u001b[0m\n",
            "\u001b[?25h  Downloading ipykernel-6.20.2-py3-none-any.whl (149 kB)\n",
            "\u001b[2K     \u001b[90m━━━━━━━━━━━━━━━━━━━━━━━━━━━━━━━━━━━━━━━━\u001b[0m \u001b[32m149.2/149.2 kB\u001b[0m \u001b[31m10.1 MB/s\u001b[0m eta \u001b[36m0:00:00\u001b[0m\n",
            "\u001b[?25h  Downloading ipykernel-6.20.1-py3-none-any.whl (149 kB)\n",
            "\u001b[2K     \u001b[90m━━━━━━━━━━━━━━━━━━━━━━━━━━━━━━━━━━━━━━━━\u001b[0m \u001b[32m149.2/149.2 kB\u001b[0m \u001b[31m14.3 MB/s\u001b[0m eta \u001b[36m0:00:00\u001b[0m\n",
            "\u001b[?25h  Downloading ipykernel-6.19.4-py3-none-any.whl (145 kB)\n",
            "\u001b[2K     \u001b[90m━━━━━━━━━━━━━━━━━━━━━━━━━━━━━━━━━━━━━━━━\u001b[0m \u001b[32m145.2/145.2 kB\u001b[0m \u001b[31m18.9 MB/s\u001b[0m eta \u001b[36m0:00:00\u001b[0m\n",
            "\u001b[?25h  Downloading ipykernel-6.19.3-py3-none-any.whl (145 kB)\n",
            "\u001b[2K     \u001b[90m━━━━━━━━━━━━━━━━━━━━━━━━━━━━━━━━━━━━━━━━\u001b[0m \u001b[32m145.1/145.1 kB\u001b[0m \u001b[31m20.9 MB/s\u001b[0m eta \u001b[36m0:00:00\u001b[0m\n",
            "\u001b[?25h  Downloading ipykernel-6.19.2-py3-none-any.whl (145 kB)\n",
            "\u001b[2K     \u001b[90m━━━━━━━━━━━━━━━━━━━━━━━━━━━━━━━━━━━━━━━━\u001b[0m \u001b[32m145.1/145.1 kB\u001b[0m \u001b[31m18.1 MB/s\u001b[0m eta \u001b[36m0:00:00\u001b[0m\n",
            "\u001b[?25h  Downloading ipykernel-6.19.1-py3-none-any.whl (145 kB)\n",
            "\u001b[2K     \u001b[90m━━━━━━━━━━━━━━━━━━━━━━━━━━━━━━━━━━━━━━━━\u001b[0m \u001b[32m145.1/145.1 kB\u001b[0m \u001b[31m20.1 MB/s\u001b[0m eta \u001b[36m0:00:00\u001b[0m\n",
            "\u001b[?25h  Downloading ipykernel-6.17.1-py3-none-any.whl (138 kB)\n",
            "\u001b[2K     \u001b[90m━━━━━━━━━━━━━━━━━━━━━━━━━━━━━━━━━━━━━━━━\u001b[0m \u001b[32m138.6/138.6 kB\u001b[0m \u001b[31m17.8 MB/s\u001b[0m eta \u001b[36m0:00:00\u001b[0m\n",
            "\u001b[?25h  Downloading ipykernel-6.17.0-py3-none-any.whl (138 kB)\n",
            "\u001b[2K     \u001b[90m━━━━━━━━━━━━━━━━━━━━━━━━━━━━━━━━━━━━━━━━\u001b[0m \u001b[32m138.5/138.5 kB\u001b[0m \u001b[31m19.7 MB/s\u001b[0m eta \u001b[36m0:00:00\u001b[0m\n",
            "\u001b[?25h  Downloading ipykernel-6.16.2-py3-none-any.whl (138 kB)\n",
            "\u001b[2K     \u001b[90m━━━━━━━━━━━━━━━━━━━━━━━━━━━━━━━━━━━━━━━━\u001b[0m \u001b[32m138.5/138.5 kB\u001b[0m \u001b[31m19.5 MB/s\u001b[0m eta \u001b[36m0:00:00\u001b[0m\n",
            "\u001b[?25h  Downloading ipykernel-6.16.1-py3-none-any.whl (138 kB)\n",
            "\u001b[2K     \u001b[90m━━━━━━━━━━━━━━━━━━━━━━━━━━━━━━━━━━━━━━━━\u001b[0m \u001b[32m138.5/138.5 kB\u001b[0m \u001b[31m17.6 MB/s\u001b[0m eta \u001b[36m0:00:00\u001b[0m\n",
            "\u001b[?25h  Downloading ipykernel-6.16.0-py3-none-any.whl (138 kB)\n",
            "\u001b[2K     \u001b[90m━━━━━━━━━━━━━━━━━━━━━━━━━━━━━━━━━━━━━━━━\u001b[0m \u001b[32m138.4/138.4 kB\u001b[0m \u001b[31m17.1 MB/s\u001b[0m eta \u001b[36m0:00:00\u001b[0m\n",
            "\u001b[?25h  Downloading ipykernel-6.15.3-py3-none-any.whl (138 kB)\n",
            "\u001b[2K     \u001b[90m━━━━━━━━━━━━━━━━━━━━━━━━━━━━━━━━━━━━━━━━\u001b[0m \u001b[32m138.3/138.3 kB\u001b[0m \u001b[31m20.2 MB/s\u001b[0m eta \u001b[36m0:00:00\u001b[0m\n",
            "\u001b[?25h  Downloading ipykernel-6.15.2-py3-none-any.whl (132 kB)\n",
            "\u001b[2K     \u001b[90m━━━━━━━━━━━━━━━━━━━━━━━━━━━━━━━━━━━━━━━━\u001b[0m \u001b[32m132.9/132.9 kB\u001b[0m \u001b[31m19.8 MB/s\u001b[0m eta \u001b[36m0:00:00\u001b[0m\n",
            "\u001b[?25h  Downloading ipykernel-6.15.1-py3-none-any.whl (132 kB)\n",
            "\u001b[2K     \u001b[90m━━━━━━━━━━━━━━━━━━━━━━━━━━━━━━━━━━━━━━━━\u001b[0m \u001b[32m132.9/132.9 kB\u001b[0m \u001b[31m20.4 MB/s\u001b[0m eta \u001b[36m0:00:00\u001b[0m\n",
            "\u001b[?25h  Downloading ipykernel-6.15.0-py3-none-any.whl (133 kB)\n",
            "\u001b[2K     \u001b[90m━━━━━━━━━━━━━━━━━━━━━━━━━━━━━━━━━━━━━━━━\u001b[0m \u001b[32m133.1/133.1 kB\u001b[0m \u001b[31m18.0 MB/s\u001b[0m eta \u001b[36m0:00:00\u001b[0m\n",
            "\u001b[?25h  Downloading ipykernel-6.14.0-py3-none-any.whl (133 kB)\n",
            "\u001b[2K     \u001b[90m━━━━━━━━━━━━━━━━━━━━━━━━━━━━━━━━━━━━━━━━\u001b[0m \u001b[32m133.2/133.2 kB\u001b[0m \u001b[31m18.7 MB/s\u001b[0m eta \u001b[36m0:00:00\u001b[0m\n",
            "\u001b[?25h  Downloading ipykernel-6.13.1-py3-none-any.whl (133 kB)\n",
            "\u001b[2K     \u001b[90m━━━━━━━━━━━━━━━━━━━━━━━━━━━━━━━━━━━━━━━━\u001b[0m \u001b[32m133.2/133.2 kB\u001b[0m \u001b[31m17.5 MB/s\u001b[0m eta \u001b[36m0:00:00\u001b[0m\n",
            "\u001b[?25h  Downloading ipykernel-6.13.0-py3-none-any.whl (131 kB)\n",
            "\u001b[2K     \u001b[90m━━━━━━━━━━━━━━━━━━━━━━━━━━━━━━━━━━━━━━━━\u001b[0m \u001b[32m131.8/131.8 kB\u001b[0m \u001b[31m19.3 MB/s\u001b[0m eta \u001b[36m0:00:00\u001b[0m\n",
            "\u001b[?25h  Downloading ipykernel-6.12.1-py3-none-any.whl (130 kB)\n",
            "\u001b[2K     \u001b[90m━━━━━━━━━━━━━━━━━━━━━━━━━━━━━━━━━━━━━━━━\u001b[0m \u001b[32m130.9/130.9 kB\u001b[0m \u001b[31m17.2 MB/s\u001b[0m eta \u001b[36m0:00:00\u001b[0m\n",
            "\u001b[?25h  Downloading ipykernel-6.12.0-py3-none-any.whl (130 kB)\n",
            "\u001b[2K     \u001b[90m━━━━━━━━━━━━━━━━━━━━━━━━━━━━━━━━━━━━━━━━\u001b[0m \u001b[32m130.9/130.9 kB\u001b[0m \u001b[31m17.8 MB/s\u001b[0m eta \u001b[36m0:00:00\u001b[0m\n",
            "\u001b[?25h  Downloading ipykernel-6.11.0-py3-none-any.whl (130 kB)\n",
            "\u001b[2K     \u001b[90m━━━━━━━━━━━━━━━━━━━━━━━━━━━━━━━━━━━━━━━━\u001b[0m \u001b[32m130.8/130.8 kB\u001b[0m \u001b[31m20.2 MB/s\u001b[0m eta \u001b[36m0:00:00\u001b[0m\n",
            "\u001b[?25h  Downloading ipykernel-6.10.0-py3-none-any.whl (130 kB)\n",
            "\u001b[2K     \u001b[90m━━━━━━━━━━━━━━━━━━━━━━━━━━━━━━━━━━━━━━━━\u001b[0m \u001b[32m130.2/130.2 kB\u001b[0m \u001b[31m17.4 MB/s\u001b[0m eta \u001b[36m0:00:00\u001b[0m\n",
            "\u001b[?25h  Downloading ipykernel-6.9.2-py3-none-any.whl (130 kB)\n",
            "\u001b[2K     \u001b[90m━━━━━━━━━━━━━━━━━━━━━━━━━━━━━━━━━━━━━━━━\u001b[0m \u001b[32m130.2/130.2 kB\u001b[0m \u001b[31m18.4 MB/s\u001b[0m eta \u001b[36m0:00:00\u001b[0m\n",
            "\u001b[?25h  Downloading ipykernel-6.9.1-py3-none-any.whl (128 kB)\n",
            "\u001b[2K     \u001b[90m━━━━━━━━━━━━━━━━━━━━━━━━━━━━━━━━━━━━━━━━\u001b[0m \u001b[32m128.9/128.9 kB\u001b[0m \u001b[31m17.6 MB/s\u001b[0m eta \u001b[36m0:00:00\u001b[0m\n",
            "\u001b[?25h  Downloading ipykernel-6.9.0-py3-none-any.whl (128 kB)\n",
            "\u001b[2K     \u001b[90m━━━━━━━━━━━━━━━━━━━━━━━━━━━━━━━━━━━━━━━━\u001b[0m \u001b[32m128.7/128.7 kB\u001b[0m \u001b[31m18.5 MB/s\u001b[0m eta \u001b[36m0:00:00\u001b[0m\n",
            "\u001b[?25h  Downloading ipykernel-6.8.0-py3-none-any.whl (128 kB)\n",
            "\u001b[2K     \u001b[90m━━━━━━━━━━━━━━━━━━━━━━━━━━━━━━━━━━━━━━━━\u001b[0m \u001b[32m128.3/128.3 kB\u001b[0m \u001b[31m17.4 MB/s\u001b[0m eta \u001b[36m0:00:00\u001b[0m\n",
            "\u001b[?25h  Downloading ipykernel-6.7.0-py3-none-any.whl (127 kB)\n",
            "\u001b[2K     \u001b[90m━━━━━━━━━━━━━━━━━━━━━━━━━━━━━━━━━━━━━━━━\u001b[0m \u001b[32m127.7/127.7 kB\u001b[0m \u001b[31m17.2 MB/s\u001b[0m eta \u001b[36m0:00:00\u001b[0m\n",
            "\u001b[?25h  Downloading ipykernel-6.6.1-py3-none-any.whl (126 kB)\n",
            "\u001b[2K     \u001b[90m━━━━━━━━━━━━━━━━━━━━━━━━━━━━━━━━━━━━━━━━\u001b[0m \u001b[32m126.3/126.3 kB\u001b[0m \u001b[31m18.2 MB/s\u001b[0m eta \u001b[36m0:00:00\u001b[0m\n",
            "\u001b[?25h  Downloading ipykernel-6.6.0-py3-none-any.whl (126 kB)\n",
            "\u001b[2K     \u001b[90m━━━━━━━━━━━━━━━━━━━━━━━━━━━━━━━━━━━━━━━━\u001b[0m \u001b[32m126.3/126.3 kB\u001b[0m \u001b[31m18.4 MB/s\u001b[0m eta \u001b[36m0:00:00\u001b[0m\n",
            "\u001b[?25h  Downloading ipykernel-6.5.1-py3-none-any.whl (125 kB)\n",
            "\u001b[2K     \u001b[90m━━━━━━━━━━━━━━━━━━━━━━━━━━━━━━━━━━━━━━━━\u001b[0m \u001b[32m125.9/125.9 kB\u001b[0m \u001b[31m17.8 MB/s\u001b[0m eta \u001b[36m0:00:00\u001b[0m\n",
            "\u001b[?25h  Downloading ipykernel-6.5.0-py3-none-any.whl (125 kB)\n",
            "\u001b[2K     \u001b[90m━━━━━━━━━━━━━━━━━━━━━━━━━━━━━━━━━━━━━━━━\u001b[0m \u001b[32m125.9/125.9 kB\u001b[0m \u001b[31m19.2 MB/s\u001b[0m eta \u001b[36m0:00:00\u001b[0m\n",
            "\u001b[?25h  Downloading ipykernel-6.4.2-py3-none-any.whl (124 kB)\n",
            "\u001b[2K     \u001b[90m━━━━━━━━━━━━━━━━━━━━━━━━━━━━━━━━━━━━━━━━\u001b[0m \u001b[32m124.1/124.1 kB\u001b[0m \u001b[31m17.8 MB/s\u001b[0m eta \u001b[36m0:00:00\u001b[0m\n",
            "\u001b[?25h  Downloading ipykernel-6.4.1-py3-none-any.whl (124 kB)\n",
            "\u001b[2K     \u001b[90m━━━━━━━━━━━━━━━━━━━━━━━━━━━━━━━━━━━━━━━━\u001b[0m \u001b[32m124.0/124.0 kB\u001b[0m \u001b[31m18.6 MB/s\u001b[0m eta \u001b[36m0:00:00\u001b[0m\n",
            "\u001b[?25h  Downloading ipykernel-6.4.0-py3-none-any.whl (124 kB)\n",
            "\u001b[2K     \u001b[90m━━━━━━━━━━━━━━━━━━━━━━━━━━━━━━━━━━━━━━━━\u001b[0m \u001b[32m124.0/124.0 kB\u001b[0m \u001b[31m17.4 MB/s\u001b[0m eta \u001b[36m0:00:00\u001b[0m\n",
            "\u001b[?25h  Downloading ipykernel-6.3.1-py3-none-any.whl (123 kB)\n",
            "\u001b[2K     \u001b[90m━━━━━━━━━━━━━━━━━━━━━━━━━━━━━━━━━━━━━━━━\u001b[0m \u001b[32m123.6/123.6 kB\u001b[0m \u001b[31m15.4 MB/s\u001b[0m eta \u001b[36m0:00:00\u001b[0m\n",
            "\u001b[?25h  Downloading ipykernel-6.3.0-py3-none-any.whl (123 kB)\n",
            "\u001b[2K     \u001b[90m━━━━━━━━━━━━━━━━━━━━━━━━━━━━━━━━━━━━━━━━\u001b[0m \u001b[32m123.6/123.6 kB\u001b[0m \u001b[31m16.1 MB/s\u001b[0m eta \u001b[36m0:00:00\u001b[0m\n",
            "\u001b[?25h  Downloading ipykernel-6.2.0-py3-none-any.whl (122 kB)\n",
            "\u001b[2K     \u001b[90m━━━━━━━━━━━━━━━━━━━━━━━━━━━━━━━━━━━━━━━━\u001b[0m \u001b[32m123.0/123.0 kB\u001b[0m \u001b[31m14.4 MB/s\u001b[0m eta \u001b[36m0:00:00\u001b[0m\n",
            "\u001b[?25h  Downloading ipykernel-6.1.0-py3-none-any.whl (122 kB)\n",
            "\u001b[2K     \u001b[90m━━━━━━━━━━━━━━━━━━━━━━━━━━━━━━━━━━━━━━━━\u001b[0m \u001b[32m122.8/122.8 kB\u001b[0m \u001b[31m16.8 MB/s\u001b[0m eta \u001b[36m0:00:00\u001b[0m\n",
            "\u001b[?25h  Downloading ipykernel-6.0.3-py3-none-any.whl (122 kB)\n",
            "\u001b[2K     \u001b[90m━━━━━━━━━━━━━━━━━━━━━━━━━━━━━━━━━━━━━━━━\u001b[0m \u001b[32m122.3/122.3 kB\u001b[0m \u001b[31m17.4 MB/s\u001b[0m eta \u001b[36m0:00:00\u001b[0m\n",
            "\u001b[?25h  Downloading ipykernel-6.0.2-py3-none-any.whl (122 kB)\n",
            "\u001b[2K     \u001b[90m━━━━━━━━━━━━━━━━━━━━━━━━━━━━━━━━━━━━━━━━\u001b[0m \u001b[32m122.3/122.3 kB\u001b[0m \u001b[31m15.9 MB/s\u001b[0m eta \u001b[36m0:00:00\u001b[0m\n",
            "\u001b[?25h  Downloading ipykernel-6.0.1-py3-none-any.whl (122 kB)\n",
            "\u001b[2K     \u001b[90m━━━━━━━━━━━━━━━━━━━━━━━━━━━━━━━━━━━━━━━━\u001b[0m \u001b[32m122.5/122.5 kB\u001b[0m \u001b[31m17.5 MB/s\u001b[0m eta \u001b[36m0:00:00\u001b[0m\n",
            "\u001b[?25h  Downloading ipykernel-6.0.0-py3-none-any.whl (122 kB)\n",
            "\u001b[2K     \u001b[90m━━━━━━━━━━━━━━━━━━━━━━━━━━━━━━━━━━━━━━━━\u001b[0m \u001b[32m122.4/122.4 kB\u001b[0m \u001b[31m17.0 MB/s\u001b[0m eta \u001b[36m0:00:00\u001b[0m\n",
            "\u001b[?25h  Downloading ipykernel-5.5.6-py3-none-any.whl (121 kB)\n",
            "\u001b[2K     \u001b[90m━━━━━━━━━━━━━━━━━━━━━━━━━━━━━━━━━━━━━━━━\u001b[0m \u001b[32m121.0/121.0 kB\u001b[0m \u001b[31m19.5 MB/s\u001b[0m eta \u001b[36m0:00:00\u001b[0m\n",
            "\u001b[?25h  Downloading ipykernel-5.5.5-py3-none-any.whl (120 kB)\n",
            "\u001b[2K     \u001b[90m━━━━━━━━━━━━━━━━━━━━━━━━━━━━━━━━━━━━━━━━\u001b[0m \u001b[32m121.0/121.0 kB\u001b[0m \u001b[31m19.4 MB/s\u001b[0m eta \u001b[36m0:00:00\u001b[0m\n",
            "\u001b[?25h  Downloading ipykernel-5.5.4-py3-none-any.whl (120 kB)\n",
            "\u001b[2K     \u001b[90m━━━━━━━━━━━━━━━━━━━━━━━━━━━━━━━━━━━━━━━━\u001b[0m \u001b[32m120.9/120.9 kB\u001b[0m \u001b[31m17.6 MB/s\u001b[0m eta \u001b[36m0:00:00\u001b[0m\n",
            "\u001b[?25h  Downloading ipykernel-5.5.3-py3-none-any.whl (120 kB)\n",
            "\u001b[2K     \u001b[90m━━━━━━━━━━━━━━━━━━━━━━━━━━━━━━━━━━━━━━━━\u001b[0m \u001b[32m120.9/120.9 kB\u001b[0m \u001b[31m16.9 MB/s\u001b[0m eta \u001b[36m0:00:00\u001b[0m\n",
            "\u001b[?25h  Downloading ipykernel-5.5.0-py3-none-any.whl (120 kB)\n",
            "\u001b[2K     \u001b[90m━━━━━━━━━━━━━━━━━━━━━━━━━━━━━━━━━━━━━━━━\u001b[0m \u001b[32m120.9/120.9 kB\u001b[0m \u001b[31m18.3 MB/s\u001b[0m eta \u001b[36m0:00:00\u001b[0m\n",
            "\u001b[?25h  Downloading ipykernel-5.4.3-py3-none-any.whl (120 kB)\n",
            "\u001b[2K     \u001b[90m━━━━━━━━━━━━━━━━━━━━━━━━━━━━━━━━━━━━━━━━\u001b[0m \u001b[32m120.1/120.1 kB\u001b[0m \u001b[31m15.3 MB/s\u001b[0m eta \u001b[36m0:00:00\u001b[0m\n",
            "\u001b[?25h  Downloading ipykernel-5.4.2-py3-none-any.whl (119 kB)\n",
            "\u001b[2K     \u001b[90m━━━━━━━━━━━━━━━━━━━━━━━━━━━━━━━━━━━━━━━━\u001b[0m \u001b[32m119.9/119.9 kB\u001b[0m \u001b[31m17.2 MB/s\u001b[0m eta \u001b[36m0:00:00\u001b[0m\n",
            "\u001b[?25h  Downloading ipykernel-5.4.1-py3-none-any.whl (119 kB)\n",
            "\u001b[2K     \u001b[90m━━━━━━━━━━━━━━━━━━━━━━━━━━━━━━━━━━━━━━━━\u001b[0m \u001b[32m119.8/119.8 kB\u001b[0m \u001b[31m17.4 MB/s\u001b[0m eta \u001b[36m0:00:00\u001b[0m\n",
            "\u001b[?25h  Downloading ipykernel-5.4.0-py3-none-any.whl (119 kB)\n",
            "\u001b[2K     \u001b[90m━━━━━━━━━━━━━━━━━━━━━━━━━━━━━━━━━━━━━━━━\u001b[0m \u001b[32m119.9/119.9 kB\u001b[0m \u001b[31m15.4 MB/s\u001b[0m eta \u001b[36m0:00:00\u001b[0m\n",
            "\u001b[?25h  Downloading ipykernel-5.3.4-py3-none-any.whl (120 kB)\n",
            "\u001b[2K     \u001b[90m━━━━━━━━━━━━━━━━━━━━━━━━━━━━━━━━━━━━━━━━\u001b[0m \u001b[32m120.6/120.6 kB\u001b[0m \u001b[31m17.2 MB/s\u001b[0m eta \u001b[36m0:00:00\u001b[0m\n",
            "\u001b[?25h  Downloading ipykernel-5.3.3-py3-none-any.whl (120 kB)\n",
            "\u001b[2K     \u001b[90m━━━━━━━━━━━━━━━━━━━━━━━━━━━━━━━━━━━━━━━━\u001b[0m \u001b[32m120.6/120.6 kB\u001b[0m \u001b[31m17.6 MB/s\u001b[0m eta \u001b[36m0:00:00\u001b[0m\n",
            "\u001b[?25h  Downloading ipykernel-5.3.2-py3-none-any.whl (120 kB)\n",
            "\u001b[2K     \u001b[90m━━━━━━━━━━━━━━━━━━━━━━━━━━━━━━━━━━━━━━━━\u001b[0m \u001b[32m120.5/120.5 kB\u001b[0m \u001b[31m16.3 MB/s\u001b[0m eta \u001b[36m0:00:00\u001b[0m\n",
            "\u001b[?25h  Downloading ipykernel-5.3.1-py3-none-any.whl (120 kB)\n",
            "\u001b[2K     \u001b[90m━━━━━━━━━━━━━━━━━━━━━━━━━━━━━━━━━━━━━━━━\u001b[0m \u001b[32m120.2/120.2 kB\u001b[0m \u001b[31m16.5 MB/s\u001b[0m eta \u001b[36m0:00:00\u001b[0m\n",
            "\u001b[?25h  Downloading ipykernel-5.3.0-py3-none-any.whl (119 kB)\n",
            "\u001b[2K     \u001b[90m━━━━━━━━━━━━━━━━━━━━━━━━━━━━━━━━━━━━━━━━\u001b[0m \u001b[32m119.8/119.8 kB\u001b[0m \u001b[31m17.4 MB/s\u001b[0m eta \u001b[36m0:00:00\u001b[0m\n",
            "\u001b[?25h  Downloading ipykernel-5.2.1-py3-none-any.whl (118 kB)\n",
            "\u001b[2K     \u001b[90m━━━━━━━━━━━━━━━━━━━━━━━━━━━━━━━━━━━━━━━━\u001b[0m \u001b[32m118.2/118.2 kB\u001b[0m \u001b[31m18.1 MB/s\u001b[0m eta \u001b[36m0:00:00\u001b[0m\n",
            "\u001b[?25h  Downloading ipykernel-5.2.0-py3-none-any.whl (117 kB)\n",
            "\u001b[2K     \u001b[90m━━━━━━━━━━━━━━━━━━━━━━━━━━━━━━━━━━━━━━━━\u001b[0m \u001b[32m117.4/117.4 kB\u001b[0m \u001b[31m16.6 MB/s\u001b[0m eta \u001b[36m0:00:00\u001b[0m\n",
            "\u001b[?25h  Downloading ipykernel-5.1.4-py3-none-any.whl (116 kB)\n",
            "\u001b[2K     \u001b[90m━━━━━━━━━━━━━━━━━━━━━━━━━━━━━━━━━━━━━━━━\u001b[0m \u001b[32m116.8/116.8 kB\u001b[0m \u001b[31m14.5 MB/s\u001b[0m eta \u001b[36m0:00:00\u001b[0m\n",
            "\u001b[?25h  Downloading ipykernel-5.1.3-py3-none-any.whl (116 kB)\n",
            "\u001b[2K     \u001b[90m━━━━━━━━━━━━━━━━━━━━━━━━━━━━━━━━━━━━━━━━\u001b[0m \u001b[32m116.6/116.6 kB\u001b[0m \u001b[31m16.9 MB/s\u001b[0m eta \u001b[36m0:00:00\u001b[0m\n",
            "\u001b[?25h  Downloading ipykernel-5.1.2-py3-none-any.whl (116 kB)\n",
            "\u001b[2K     \u001b[90m━━━━━━━━━━━━━━━━━━━━━━━━━━━━━━━━━━━━━━━━\u001b[0m \u001b[32m116.3/116.3 kB\u001b[0m \u001b[31m17.5 MB/s\u001b[0m eta \u001b[36m0:00:00\u001b[0m\n",
            "\u001b[?25h  Downloading ipykernel-5.1.1-py3-none-any.whl (114 kB)\n",
            "\u001b[2K     \u001b[90m━━━━━━━━━━━━━━━━━━━━━━━━━━━━━━━━━━━━━━━━\u001b[0m \u001b[32m114.0/114.0 kB\u001b[0m \u001b[31m17.3 MB/s\u001b[0m eta \u001b[36m0:00:00\u001b[0m\n",
            "\u001b[?25h  Downloading ipykernel-5.1.0-py3-none-any.whl (113 kB)\n",
            "\u001b[2K     \u001b[90m━━━━━━━━━━━━━━━━━━━━━━━━━━━━━━━━━━━━━━━━\u001b[0m \u001b[32m113.9/113.9 kB\u001b[0m \u001b[31m16.0 MB/s\u001b[0m eta \u001b[36m0:00:00\u001b[0m\n",
            "\u001b[?25h  Downloading ipykernel-5.0.0-py3-none-any.whl (113 kB)\n",
            "\u001b[2K     \u001b[90m━━━━━━━━━━━━━━━━━━━━━━━━━━━━━━━━━━━━━━━━\u001b[0m \u001b[32m113.5/113.5 kB\u001b[0m \u001b[31m15.8 MB/s\u001b[0m eta \u001b[36m0:00:00\u001b[0m\n",
            "\u001b[?25h  Downloading ipykernel-4.10.1-py3-none-any.whl (109 kB)\n",
            "\u001b[2K     \u001b[90m━━━━━━━━━━━━━━━━━━━━━━━━━━━━━━━━━━━━━━━━\u001b[0m \u001b[32m109.9/109.9 kB\u001b[0m \u001b[31m13.1 MB/s\u001b[0m eta \u001b[36m0:00:00\u001b[0m\n",
            "\u001b[?25h  Downloading ipykernel-4.10.0-py3-none-any.whl (109 kB)\n",
            "\u001b[2K     \u001b[90m━━━━━━━━━━━━━━━━━━━━━━━━━━━━━━━━━━━━━━━━\u001b[0m \u001b[32m109.9/109.9 kB\u001b[0m \u001b[31m14.8 MB/s\u001b[0m eta \u001b[36m0:00:00\u001b[0m\n",
            "\u001b[?25h  Downloading ipykernel-4.9.0-py3-none-any.whl (110 kB)\n",
            "\u001b[2K     \u001b[90m━━━━━━━━━━━━━━━━━━━━━━━━━━━━━━━━━━━━━━━━\u001b[0m \u001b[32m110.9/110.9 kB\u001b[0m \u001b[31m13.6 MB/s\u001b[0m eta \u001b[36m0:00:00\u001b[0m\n",
            "\u001b[?25h  Downloading ipykernel-4.8.2-py3-none-any.whl (108 kB)\n",
            "\u001b[2K     \u001b[90m━━━━━━━━━━━━━━━━━━━━━━━━━━━━━━━━━━━━━━━━\u001b[0m \u001b[32m108.7/108.7 kB\u001b[0m \u001b[31m14.6 MB/s\u001b[0m eta \u001b[36m0:00:00\u001b[0m\n",
            "\u001b[?25h  Downloading ipykernel-4.8.1-py3-none-any.whl (108 kB)\n",
            "\u001b[2K     \u001b[90m━━━━━━━━━━━━━━━━━━━━━━━━━━━━━━━━━━━━━━━━\u001b[0m \u001b[32m108.4/108.4 kB\u001b[0m \u001b[31m13.9 MB/s\u001b[0m eta \u001b[36m0:00:00\u001b[0m\n",
            "\u001b[?25h  Downloading ipykernel-4.8.0-py3-none-any.whl (108 kB)\n",
            "\u001b[2K     \u001b[90m━━━━━━━━━━━━━━━━━━━━━━━━━━━━━━━━━━━━━━━━\u001b[0m \u001b[32m108.3/108.3 kB\u001b[0m \u001b[31m15.4 MB/s\u001b[0m eta \u001b[36m0:00:00\u001b[0m\n",
            "\u001b[?25h  Downloading ipykernel-4.7.0-py3-none-any.whl (106 kB)\n",
            "\u001b[2K     \u001b[90m━━━━━━━━━━━━━━━━━━━━━━━━━━━━━━━━━━━━━━━━\u001b[0m \u001b[32m106.9/106.9 kB\u001b[0m \u001b[31m13.3 MB/s\u001b[0m eta \u001b[36m0:00:00\u001b[0m\n",
            "\u001b[?25h  Downloading ipykernel-4.6.1-py3-none-any.whl (104 kB)\n",
            "\u001b[2K     \u001b[90m━━━━━━━━━━━━━━━━━━━━━━━━━━━━━━━━━━━━━━━━\u001b[0m \u001b[32m104.5/104.5 kB\u001b[0m \u001b[31m12.6 MB/s\u001b[0m eta \u001b[36m0:00:00\u001b[0m\n",
            "\u001b[?25h  Downloading ipykernel-4.6.0-py3-none-any.whl (104 kB)\n",
            "\u001b[2K     \u001b[90m━━━━━━━━━━━━━━━━━━━━━━━━━━━━━━━━━━━━━━━━\u001b[0m \u001b[32m104.2/104.2 kB\u001b[0m \u001b[31m12.6 MB/s\u001b[0m eta \u001b[36m0:00:00\u001b[0m\n",
            "\u001b[?25h  Downloading ipykernel-4.5.2-py2.py3-none-any.whl (98 kB)\n",
            "\u001b[2K     \u001b[90m━━━━━━━━━━━━━━━━━━━━━━━━━━━━━━━━━━━━━━━━\u001b[0m \u001b[32m98.5/98.5 kB\u001b[0m \u001b[31m13.8 MB/s\u001b[0m eta \u001b[36m0:00:00\u001b[0m\n",
            "\u001b[?25h  Downloading ipykernel-4.5.1-py2.py3-none-any.whl (98 kB)\n",
            "\u001b[2K     \u001b[90m━━━━━━━━━━━━━━━━━━━━━━━━━━━━━━━━━━━━━━━━\u001b[0m \u001b[32m98.4/98.4 kB\u001b[0m \u001b[31m13.1 MB/s\u001b[0m eta \u001b[36m0:00:00\u001b[0m\n",
            "\u001b[?25hCollecting jupyterlab (from arcgis)\n",
            "  Downloading jupyterlab-4.0.7-py3-none-any.whl (9.2 MB)\n",
            "\u001b[2K     \u001b[90m━━━━━━━━━━━━━━━━━━━━━━━━━━━━━━━━━━━━━━━━\u001b[0m \u001b[32m9.2/9.2 MB\u001b[0m \u001b[31m127.0 MB/s\u001b[0m eta \u001b[36m0:00:00\u001b[0m\n",
            "\u001b[?25h  Downloading jupyterlab-4.0.6-py3-none-any.whl (9.2 MB)\n",
            "\u001b[2K     \u001b[90m━━━━━━━━━━━━━━━━━━━━━━━━━━━━━━━━━━━━━━━━\u001b[0m \u001b[32m9.2/9.2 MB\u001b[0m \u001b[31m135.6 MB/s\u001b[0m eta \u001b[36m0:00:00\u001b[0m\n",
            "\u001b[?25h  Downloading jupyterlab-4.0.5-py3-none-any.whl (9.2 MB)\n",
            "\u001b[2K     \u001b[90m━━━━━━━━━━━━━━━━━━━━━━━━━━━━━━━━━━━━━━━━\u001b[0m \u001b[32m9.2/9.2 MB\u001b[0m \u001b[31m95.5 MB/s\u001b[0m eta \u001b[36m0:00:00\u001b[0m\n",
            "\u001b[?25h  Downloading jupyterlab-4.0.4-py3-none-any.whl (9.2 MB)\n",
            "\u001b[2K     \u001b[90m━━━━━━━━━━━━━━━━━━━━━━━━━━━━━━━━━━━━━━━━\u001b[0m \u001b[32m9.2/9.2 MB\u001b[0m \u001b[31m153.7 MB/s\u001b[0m eta \u001b[36m0:00:00\u001b[0m\n",
            "\u001b[?25h  Downloading jupyterlab-4.0.3-py3-none-any.whl (9.2 MB)\n",
            "\u001b[2K     \u001b[90m━━━━━━━━━━━━━━━━━━━━━━━━━━━━━━━━━━━━━━━━\u001b[0m \u001b[32m9.2/9.2 MB\u001b[0m \u001b[31m121.8 MB/s\u001b[0m eta \u001b[36m0:00:00\u001b[0m\n",
            "\u001b[?25h  Downloading jupyterlab-4.0.2-py3-none-any.whl (9.2 MB)\n",
            "\u001b[2K     \u001b[90m━━━━━━━━━━━━━━━━━━━━━━━━━━━━━━━━━━━━━━━━\u001b[0m \u001b[32m9.2/9.2 MB\u001b[0m \u001b[31m128.6 MB/s\u001b[0m eta \u001b[36m0:00:00\u001b[0m\n",
            "\u001b[?25h  Downloading jupyterlab-4.0.1-py3-none-any.whl (9.2 MB)\n",
            "\u001b[2K     \u001b[90m━━━━━━━━━━━━━━━━━━━━━━━━━━━━━━━━━━━━━━━━\u001b[0m \u001b[32m9.2/9.2 MB\u001b[0m \u001b[31m137.9 MB/s\u001b[0m eta \u001b[36m0:00:00\u001b[0m\n",
            "\u001b[?25h  Downloading jupyterlab-4.0.0-py3-none-any.whl (9.2 MB)\n",
            "\u001b[2K     \u001b[90m━━━━━━━━━━━━━━━━━━━━━━━━━━━━━━━━━━━━━━━━\u001b[0m \u001b[32m9.2/9.2 MB\u001b[0m \u001b[31m108.7 MB/s\u001b[0m eta \u001b[36m0:00:00\u001b[0m\n",
            "\u001b[?25h  Downloading jupyterlab-3.6.6-py3-none-any.whl (8.9 MB)\n",
            "\u001b[2K     \u001b[90m━━━━━━━━━━━━━━━━━━━━━━━━━━━━━━━━━━━━━━━━\u001b[0m \u001b[32m8.9/8.9 MB\u001b[0m \u001b[31m46.6 MB/s\u001b[0m eta \u001b[36m0:00:00\u001b[0m\n",
            "\u001b[?25hRequirement already satisfied: jupyter-server<3,>=1.16.0 in /usr/local/lib/python3.10/dist-packages (from jupyterlab->arcgis) (1.24.0)\n",
            "Collecting jupyter-ydoc~=0.2.4 (from jupyterlab->arcgis)\n",
            "  Downloading jupyter_ydoc-0.2.5-py3-none-any.whl (6.2 kB)\n",
            "Collecting jupyter-server-ydoc~=0.8.0 (from jupyterlab->arcgis)\n",
            "  Downloading jupyter_server_ydoc-0.8.0-py3-none-any.whl (11 kB)\n",
            "Requirement already satisfied: websocket-client in /usr/local/lib/python3.10/dist-packages (from jupyter-server<3,>=1.16.0->jupyterlab->arcgis) (1.6.4)\n",
            "Collecting jupyter-server-fileid<1,>=0.6.0 (from jupyter-server-ydoc~=0.8.0->jupyterlab->arcgis)\n",
            "  Downloading jupyter_server_fileid-0.9.0-py3-none-any.whl (15 kB)\n",
            "Collecting ypy-websocket<0.9.0,>=0.8.2 (from jupyter-server-ydoc~=0.8.0->jupyterlab->arcgis)\n",
            "  Downloading ypy_websocket-0.8.4-py3-none-any.whl (10 kB)\n",
            "Collecting y-py<0.7.0,>=0.6.0 (from jupyter-ydoc~=0.2.4->jupyterlab->arcgis)\n",
            "  Downloading y_py-0.6.2-cp310-cp310-manylinux_2_17_x86_64.manylinux2014_x86_64.whl (1.7 MB)\n",
            "\u001b[2K     \u001b[90m━━━━━━━━━━━━━━━━━━━━━━━━━━━━━━━━━━━━━━━━\u001b[0m \u001b[32m1.7/1.7 MB\u001b[0m \u001b[31m94.8 MB/s\u001b[0m eta \u001b[36m0:00:00\u001b[0m\n",
            "\u001b[?25hRequirement already satisfied: babel>=2.10 in /usr/local/lib/python3.10/dist-packages (from jupyterlab-server<3,>=2.19.0->jupyterlab->arcgis) (2.13.1)\n",
            "Collecting json5>=0.9.0 (from jupyterlab-server<3,>=2.19.0->jupyterlab->arcgis)\n",
            "  Using cached json5-0.9.14-py2.py3-none-any.whl (19 kB)\n",
            "Requirement already satisfied: jsonschema>=4.18.0 in /usr/local/lib/python3.10/dist-packages (from jupyterlab-server<3,>=2.19.0->jupyterlab->arcgis) (4.19.2)\n",
            "Requirement already satisfied: beautifulsoup4 in /usr/local/lib/python3.10/dist-packages (from nbconvert>=5->notebook->arcgis) (4.11.2)\n",
            "Requirement already satisfied: bleach in /usr/local/lib/python3.10/dist-packages (from nbconvert>=5->notebook->arcgis) (6.1.0)\n",
            "Requirement already satisfied: defusedxml in /usr/local/lib/python3.10/dist-packages (from nbconvert>=5->notebook->arcgis) (0.7.1)\n",
            "Requirement already satisfied: entrypoints>=0.2.2 in /usr/local/lib/python3.10/dist-packages (from nbconvert>=5->notebook->arcgis) (0.4)\n",
            "Requirement already satisfied: jupyterlab-pygments in /usr/local/lib/python3.10/dist-packages (from nbconvert>=5->notebook->arcgis) (0.2.2)\n",
            "Requirement already satisfied: mistune<2,>=0.8.1 in /usr/local/lib/python3.10/dist-packages (from nbconvert>=5->notebook->arcgis) (0.8.4)\n",
            "Requirement already satisfied: nbclient>=0.5.0 in /usr/local/lib/python3.10/dist-packages (from nbconvert>=5->notebook->arcgis) (0.9.0)\n",
            "Requirement already satisfied: pandocfilters>=1.4.1 in /usr/local/lib/python3.10/dist-packages (from nbconvert>=5->notebook->arcgis) (1.5.0)\n",
            "Requirement already satisfied: tinycss2 in /usr/local/lib/python3.10/dist-packages (from nbconvert>=5->notebook->arcgis) (1.2.1)\n",
            "Requirement already satisfied: fastjsonschema in /usr/local/lib/python3.10/dist-packages (from nbformat->notebook->arcgis) (2.18.1)\n",
            "Requirement already satisfied: locket in /usr/local/lib/python3.10/dist-packages (from partd>=1.2.0->dask>=2023.3.2->arcgis) (1.0.0)\n",
            "Requirement already satisfied: ptyprocess in /usr/local/lib/python3.10/dist-packages (from terminado>=0.8.3->notebook->arcgis) (0.7.0)\n",
            "Requirement already satisfied: argon2-cffi-bindings in /usr/local/lib/python3.10/dist-packages (from argon2-cffi->notebook->arcgis) (21.2.0)\n",
            "Collecting krb5>=0.3.0 (from pyspnego>=0.8.0->arcgis)\n",
            "  Using cached krb5-0.5.1-cp310-cp310-linux_x86_64.whl\n",
            "Requirement already satisfied: sniffio>=1.1 in /usr/local/lib/python3.10/dist-packages (from anyio>=3.1.0->jupyter-server<3,>=2.4.0->jupyterlab->arcgis) (1.3.0)\n",
            "Requirement already satisfied: exceptiongroup in /usr/local/lib/python3.10/dist-packages (from anyio>=3.1.0->jupyter-server<3,>=2.4.0->jupyterlab->arcgis) (1.1.3)\n",
            "Requirement already satisfied: parso<0.9.0,>=0.8.3 in /usr/local/lib/python3.10/dist-packages (from jedi>=0.16->ipython>=4.0.0->ipywidgets<8,>=7->arcgis) (0.8.3)\n",
            "Requirement already satisfied: attrs>=22.2.0 in /usr/local/lib/python3.10/dist-packages (from jsonschema>=4.18.0->jupyterlab-server<3,>=2.19.0->jupyterlab->arcgis) (23.1.0)\n",
            "Requirement already satisfied: jsonschema-specifications>=2023.03.6 in /usr/local/lib/python3.10/dist-packages (from jsonschema>=4.18.0->jupyterlab-server<3,>=2.19.0->jupyterlab->arcgis) (2023.7.1)\n",
            "Requirement already satisfied: referencing>=0.28.4 in /usr/local/lib/python3.10/dist-packages (from jsonschema>=4.18.0->jupyterlab-server<3,>=2.19.0->jupyterlab->arcgis) (0.30.2)\n",
            "Requirement already satisfied: rpds-py>=0.7.1 in /usr/local/lib/python3.10/dist-packages (from jsonschema>=4.18.0->jupyterlab-server<3,>=2.19.0->jupyterlab->arcgis) (0.12.0)\n",
            "Collecting jupyter-events>=0.5.0 (from jupyter-server-fileid<1,>=0.6.0->jupyter-server-ydoc~=0.8.0->jupyterlab->arcgis)\n",
            "  Using cached jupyter_events-0.9.0-py3-none-any.whl (18 kB)\n",
            "Requirement already satisfied: wcwidth in /usr/local/lib/python3.10/dist-packages (from prompt-toolkit!=3.0.0,!=3.0.1,<3.1.0,>=2.0.0->ipython>=4.0.0->ipywidgets<8,>=7->arcgis) (0.2.9)\n",
            "Collecting aiofiles<23,>=22.1.0 (from ypy-websocket<0.9.0,>=0.8.2->jupyter-server-ydoc~=0.8.0->jupyterlab->arcgis)\n",
            "  Downloading aiofiles-22.1.0-py3-none-any.whl (14 kB)\n",
            "Collecting aiosqlite<1,>=0.17.0 (from ypy-websocket<0.9.0,>=0.8.2->jupyter-server-ydoc~=0.8.0->jupyterlab->arcgis)\n",
            "  Downloading aiosqlite-0.19.0-py3-none-any.whl (15 kB)\n",
            "Requirement already satisfied: soupsieve>1.2 in /usr/local/lib/python3.10/dist-packages (from beautifulsoup4->nbconvert>=5->notebook->arcgis) (2.5)\n",
            "Requirement already satisfied: webencodings in /usr/local/lib/python3.10/dist-packages (from bleach->nbconvert>=5->notebook->arcgis) (0.5.1)\n",
            "Collecting python-json-logger>=2.0.4 (from jupyter-events>=0.5.0->jupyter-server-fileid<1,>=0.6.0->jupyter-server-ydoc~=0.8.0->jupyterlab->arcgis)\n",
            "  Using cached python_json_logger-2.0.7-py3-none-any.whl (8.1 kB)\n",
            "Collecting rfc3339-validator (from jupyter-events>=0.5.0->jupyter-server-fileid<1,>=0.6.0->jupyter-server-ydoc~=0.8.0->jupyterlab->arcgis)\n",
            "  Using cached rfc3339_validator-0.1.4-py2.py3-none-any.whl (3.5 kB)\n",
            "Collecting rfc3986-validator>=0.1.1 (from jupyter-events>=0.5.0->jupyter-server-fileid<1,>=0.6.0->jupyter-server-ydoc~=0.8.0->jupyterlab->arcgis)\n",
            "  Using cached rfc3986_validator-0.1.1-py2.py3-none-any.whl (4.2 kB)\n",
            "Collecting fqdn (from jsonschema>=4.18.0->jupyterlab-server<3,>=2.19.0->jupyterlab->arcgis)\n",
            "  Using cached fqdn-1.5.1-py3-none-any.whl (9.1 kB)\n",
            "Collecting isoduration (from jsonschema>=4.18.0->jupyterlab-server<3,>=2.19.0->jupyterlab->arcgis)\n",
            "  Using cached isoduration-20.11.0-py3-none-any.whl (11 kB)\n",
            "Collecting jsonpointer>1.13 (from jsonschema>=4.18.0->jupyterlab-server<3,>=2.19.0->jupyterlab->arcgis)\n",
            "  Using cached jsonpointer-2.4-py2.py3-none-any.whl (7.8 kB)\n",
            "Collecting uri-template (from jsonschema>=4.18.0->jupyterlab-server<3,>=2.19.0->jupyterlab->arcgis)\n",
            "  Using cached uri_template-1.3.0-py3-none-any.whl (11 kB)\n",
            "Requirement already satisfied: webcolors>=1.11 in /usr/local/lib/python3.10/dist-packages (from jsonschema>=4.18.0->jupyterlab-server<3,>=2.19.0->jupyterlab->arcgis) (1.13)\n",
            "Collecting arrow>=0.15.0 (from isoduration->jsonschema>=4.18.0->jupyterlab-server<3,>=2.19.0->jupyterlab->arcgis)\n",
            "  Using cached arrow-1.3.0-py3-none-any.whl (66 kB)\n",
            "Collecting types-python-dateutil>=2.8.10 (from arrow>=0.15.0->isoduration->jsonschema>=4.18.0->jupyterlab-server<3,>=2.19.0->jupyterlab->arcgis)\n",
            "  Using cached types_python_dateutil-2.8.19.14-py3-none-any.whl (9.4 kB)\n",
            "Building wheels for collected packages: arcgis\n",
            "  Building wheel for arcgis (setup.py) ... \u001b[?25l\u001b[?25hdone\n",
            "  Created wheel for arcgis: filename=arcgis-2.2.0.1-cp310-cp310-linux_x86_64.whl size=8425689 sha256=57d395853bf73d54f8b5c3da000eb5bbc3051d5346832d5ad053adc29a16cdc0\n",
            "  Stored in directory: /root/.cache/pip/wheels/fc/4d/11/ff2495fb42a69244f99bcaac45cd66396c8a28f0232e8a8da9\n",
            "Successfully built arcgis\n",
            "Installing collected packages: y-py, types-python-dateutil, json5, uri-template, ujson, tzdata, truststore, rfc3986-validator, rfc3339-validator, python-json-logger, pylerc, krb5, jupyter-ydoc, jsonpointer, jedi, gssapi, geomet, fqdn, aiosqlite, aiofiles, ypy-websocket, requests_toolbelt, requests-gssapi, pandas, arrow, pyspnego, isoduration, requests-kerberos, jupyter-events, jupyterlab-server, jupyter-server-fileid, jupyter-server-ydoc, jupyterlab, arcgis\n",
            "  Attempting uninstall: pandas\n",
            "    Found existing installation: pandas 1.5.3\n",
            "    Uninstalling pandas-1.5.3:\n",
            "      Successfully uninstalled pandas-1.5.3\n",
            "\u001b[31mERROR: pip's dependency resolver does not currently take into account all the packages that are installed. This behaviour is the source of the following dependency conflicts.\n",
            "lida 0.0.10 requires fastapi, which is not installed.\n",
            "lida 0.0.10 requires kaleido, which is not installed.\n",
            "lida 0.0.10 requires python-multipart, which is not installed.\n",
            "lida 0.0.10 requires uvicorn, which is not installed.\n",
            "google-colab 1.0.0 requires pandas==1.5.3, but you have pandas 2.1.3 which is incompatible.\u001b[0m\u001b[31m\n",
            "\u001b[0mSuccessfully installed aiofiles-22.1.0 aiosqlite-0.19.0 arcgis-2.2.0.1 arrow-1.3.0 fqdn-1.5.1 geomet-1.0.0 gssapi-1.8.3 isoduration-20.11.0 jedi-0.19.1 json5-0.9.14 jsonpointer-2.4 jupyter-events-0.9.0 jupyter-server-fileid-0.9.0 jupyter-server-ydoc-0.8.0 jupyter-ydoc-0.2.5 jupyterlab-3.6.6 jupyterlab-server-2.25.1 krb5-0.5.1 pandas-2.1.3 pylerc-4.0 pyspnego-0.10.2 python-json-logger-2.0.7 requests-gssapi-1.2.3 requests-kerberos-0.14.0 requests_toolbelt-1.0.0 rfc3339-validator-0.1.4 rfc3986-validator-0.1.1 truststore-0.8.0 types-python-dateutil-2.8.19.14 tzdata-2023.3 ujson-5.8.0 uri-template-1.3.0 y-py-0.6.2 ypy-websocket-0.8.4\n"
          ]
        }
      ]
    },
    {
      "cell_type": "code",
      "source": [
        "from arcgis.gis import GIS\n",
        "# Create a GIS object, as an anonymous user for this example\n",
        "gis = GIS()"
      ],
      "metadata": {
        "id": "kDjKyrMXU9mw"
      },
      "execution_count": null,
      "outputs": []
    },
    {
      "cell_type": "code",
      "source": [],
      "metadata": {
        "id": "27jAG_9wX75w"
      },
      "execution_count": null,
      "outputs": []
    },
    {
      "cell_type": "code",
      "source": [],
      "metadata": {
        "id": "fD3eAj2sVib3"
      },
      "execution_count": null,
      "outputs": []
    },
    {
      "cell_type": "code",
      "source": [
        "from google.colab import output\n",
        "output.enable_custom_widget_manager()"
      ],
      "metadata": {
        "id": "qLAYVrImVjcL"
      },
      "execution_count": null,
      "outputs": []
    },
    {
      "cell_type": "markdown",
      "source": [
        "Support for third party widgets will remain active for the duration of the session. To disable support:"
      ],
      "metadata": {
        "id": "TIOMFrzXVjcV"
      }
    },
    {
      "cell_type": "code",
      "source": [
        "from google.colab import output\n",
        "output.enable_custom_widget_manager()"
      ],
      "metadata": {
        "id": "jYJ-NV30VpoC"
      },
      "execution_count": null,
      "outputs": []
    },
    {
      "cell_type": "code",
      "source": [
        "# Create a map widget\n",
        "map1 = gis.map('Paris') # Passing a place name to the constructor\n",
        "                        # will initialize the extent of the map.\n",
        "map1"
      ],
      "metadata": {
        "colab": {
          "base_uri": "https://localhost:8080/",
          "height": 34,
          "referenced_widgets": [
            "9ba94d3b05f04c2f86b9c31c9e7c091d"
          ]
        },
        "id": "T51vl9jiVOLG",
        "outputId": "6d5c1c2b-f8f9-4c0c-c4df-73884ba1abde"
      },
      "execution_count": null,
      "outputs": [
        {
          "output_type": "display_data",
          "data": {
            "text/plain": [
              "MapView(layout=Layout(height='400px', width='100%'))"
            ],
            "application/vnd.jupyter.widget-view+json": {
              "version_major": 2,
              "version_minor": 0,
              "model_id": "9ba94d3b05f04c2f86b9c31c9e7c091d"
            }
          },
          "metadata": {
            "application/vnd.jupyter.widget-view+json": {
              "colab": {
                "custom_widget_manager": {
                  "url": "https://ssl.gstatic.com/colaboratory-static/widgets/colab-cdn-widget-manager/b3e629b1971e1542/manager.min.js"
                }
              }
            }
          }
        },
        {
          "output_type": "display_data",
          "data": {
            "text/plain": [
              "<IPython.core.display.HTML object>"
            ],
            "text/html": [
              "<div class=\"map-static-img-preview-4e43a7aa-f491-48de-8017-f21a691ee20c\"><img src=\"\"></img></div>"
            ]
          },
          "metadata": {}
        },
        {
          "output_type": "display_data",
          "data": {
            "text/plain": [
              "<IPython.core.display.HTML object>"
            ],
            "text/html": [
              "<div class=\"map-html-embed-preview-4e43a7aa-f491-48de-8017-f21a691ee20c\"></div>"
            ]
          },
          "metadata": {}
        }
      ]
    },
    {
      "cell_type": "code",
      "source": [
        "map1.zoom\n"
      ],
      "metadata": {
        "colab": {
          "base_uri": "https://localhost:8080/"
        },
        "id": "wWZiZHDPWfaP",
        "outputId": "764f0fd6-8a83-4cc0-e359-cfbad349136a"
      },
      "execution_count": null,
      "outputs": [
        {
          "output_type": "execute_result",
          "data": {
            "text/plain": [
              "-1.0"
            ]
          },
          "metadata": {},
          "execution_count": 10
        }
      ]
    },
    {
      "cell_type": "code",
      "source": [
        "map2 = gis.map() # creating a map object with default parameters\n",
        "map2"
      ],
      "metadata": {
        "colab": {
          "base_uri": "https://localhost:8080/",
          "height": 34,
          "referenced_widgets": [
            "58d7c08e1f3d45c1a3c40de51171e867"
          ]
        },
        "id": "77z9jqs4WxKR",
        "outputId": "a4875b90-5cd9-4d3e-9372-a77188e7e92a"
      },
      "execution_count": null,
      "outputs": [
        {
          "output_type": "display_data",
          "data": {
            "text/plain": [
              "MapView(layout=Layout(height='400px', width='100%'))"
            ],
            "application/vnd.jupyter.widget-view+json": {
              "version_major": 2,
              "version_minor": 0,
              "model_id": "58d7c08e1f3d45c1a3c40de51171e867"
            }
          },
          "metadata": {
            "application/vnd.jupyter.widget-view+json": {
              "colab": {
                "custom_widget_manager": {
                  "url": "https://ssl.gstatic.com/colaboratory-static/widgets/colab-cdn-widget-manager/b3e629b1971e1542/manager.min.js"
                }
              }
            }
          }
        },
        {
          "output_type": "display_data",
          "data": {
            "text/plain": [
              "<IPython.core.display.HTML object>"
            ],
            "text/html": [
              "<div class=\"map-static-img-preview-1677b87c-8581-4919-8312-17fe5e7e823e\"><img src=\"\"></img></div>"
            ]
          },
          "metadata": {}
        },
        {
          "output_type": "display_data",
          "data": {
            "text/plain": [
              "<IPython.core.display.HTML object>"
            ],
            "text/html": [
              "<div class=\"map-html-embed-preview-1677b87c-8581-4919-8312-17fe5e7e823e\"></div>"
            ]
          },
          "metadata": {}
        }
      ]
    },
    {
      "cell_type": "code",
      "source": [
        "from google.colab import drive\n",
        "drive.mount('/content/drive')"
      ],
      "metadata": {
        "colab": {
          "base_uri": "https://localhost:8080/"
        },
        "id": "MoXaz5QAMohy",
        "outputId": "2dcf9aca-8cf3-4818-a04b-0eb365921344"
      },
      "execution_count": null,
      "outputs": [
        {
          "output_type": "stream",
          "name": "stdout",
          "text": [
            "Drive already mounted at /content/drive; to attempt to forcibly remount, call drive.mount(\"/content/drive\", force_remount=True).\n"
          ]
        }
      ]
    },
    {
      "cell_type": "markdown",
      "source": [
        "Support for third party widgets will remain active for the duration of the session. To disable support:"
      ],
      "metadata": {
        "id": "AKHl2lv_VpoL"
      }
    },
    {
      "cell_type": "code",
      "source": [
        "from google.colab import output\n",
        "output.disable_custom_widget_manager()"
      ],
      "metadata": {
        "id": "rSqVOrhmVpoM"
      },
      "execution_count": null,
      "outputs": []
    },
    {
      "cell_type": "markdown",
      "source": [
        "# API integrations"
      ],
      "metadata": {
        "id": "sa64eVgDzG7W"
      }
    }
  ]
}